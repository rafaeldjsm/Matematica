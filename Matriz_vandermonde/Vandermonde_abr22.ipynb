{
  "nbformat": 4,
  "nbformat_minor": 0,
  "metadata": {
    "kernelspec": {
      "display_name": "Python 3",
      "language": "python",
      "name": "python3"
    },
    "language_info": {
      "codemirror_mode": {
        "name": "ipython",
        "version": 3
      },
      "file_extension": ".py",
      "mimetype": "text/x-python",
      "name": "python",
      "nbconvert_exporter": "python",
      "pygments_lexer": "ipython3",
      "version": "3.7.6"
    },
    "colab": {
      "name": "Vandermonde_abr22.ipynb",
      "provenance": [],
      "collapsed_sections": [],
      "include_colab_link": true
    }
  },
  "cells": [
    {
      "cell_type": "markdown",
      "metadata": {
        "id": "view-in-github",
        "colab_type": "text"
      },
      "source": [
        "<a href=\"https://colab.research.google.com/github/rafaeldjsm/Data_Science/blob/master/Vandermonde_abr22.ipynb\" target=\"_parent\"><img src=\"https://colab.research.google.com/assets/colab-badge.svg\" alt=\"Open In Colab\"/></a>"
      ]
    },
    {
      "cell_type": "markdown",
      "metadata": {
        "id": "9mTha_zGH5Js"
      },
      "source": [
        "$$ \\left|\\begin{array}{ccccc}\n",
        "1 & 1 & 1 & \\cdots & 1 \\\\\n",
        "1 & \\epsilon & \\epsilon^2 & \\cdots & \\epsilon^{n-1} \\\\\n",
        "1 & \\epsilon^2 & \\epsilon^4 & \\cdots & \\epsilon^{2(n-1)} \\\\ \n",
        "\\vdots &\\vdots &\\vdots &\\ddots &\\vdots\\\\\n",
        "1 & \\epsilon^{n-1} & \\epsilon^{2(n-1)} & \\cdots & \\epsilon^{(n-1)^2}\n",
        "\\end{array}\\right|$$\n",
        "\n",
        "$$\\textrm{Onde }\\epsilon = \\cos \\frac{ 2 \\pi}n  + i. \\mathrm{sen} \\frac{ 2 \\pi } n $$\n",
        "\n",
        "$$\\textrm{Sabe-se que uma matriz de Vandermonde tem valor do determinante igual a: }$$\n",
        "\n",
        "$$D= \\prod_{0 \\ll i <j \\ll n}^{n} (a_j - a_i)$$\n",
        "\n",
        "$$\\textrm  {O determinante de uma matriz de Vandermonde pode ser obtido multiplicando-se todas} $$\n",
        "$$\\textrm {as diferenças possíveis entre os elementos característicos, que neste caso estão na segunda linha} $$\n",
        "\n",
        "$$\\textrm {Logo, teremos o produto da combinação de n elementos 2 a 2, ou seja termos }{n \\choose k}  = \\frac {n.(n-1)}2 \\textrm{ elementos.}$$\n",
        "\n",
        "$$\\textrm {Vamos chamar o produtorio da combinação dos dois primeiros elementos de} $$ $${P_0 = (\\epsilon-1)} $$ $$ \\textrm { Logo:}$$\n",
        "\n",
        "Esta expressão $P_n$ indica o valor do determinante de uma matriz como mostrada acima de dimensões $ n \\times n$.\n",
        "\n",
        "$$ P_1=(\\epsilon^2-1).(\\epsilon^2-\\epsilon)= \\epsilon .(\\epsilon^2-1).P_0  $$\n",
        "$$ P_2=(\\epsilon^3-1).(\\epsilon^3-\\epsilon).(\\epsilon^3-\\epsilon^2)= \\epsilon^3 .(\\epsilon^3-1) .(\\epsilon^2-1).P_0 = \\epsilon^2 .(\\epsilon^3-1) . P_1  $$\n",
        "\n",
        "De forma geral é fácil induzir que:\n",
        "\n",
        "$$ P_k=\\epsilon^k .(\\epsilon^{k+1}-1) . P_{k-1}  $$\n",
        "\n",
        "$$\\textrm { k variando de 0 a n-2: }$$ "
      ]
    },
    {
      "cell_type": "markdown",
      "metadata": {
        "id": "U8Ot5RUiH5Jw"
      },
      "source": [
        "##  Solução Usando a recorrência mostrada acima 'SOLUÇÃO MAIS TÉCNICA'"
      ]
    },
    {
      "cell_type": "code",
      "metadata": {
        "id": "RMQxGgxiH5Jx",
        "outputId": "12825a57-54a4-45ab-a72d-19c820e3e9e0",
        "colab": {
          "base_uri": "https://localhost:8080/"
        }
      },
      "source": [
        "import numpy as np\n",
        "import pandas as pd\n",
        "\n",
        "n = int(input('Insira aqui a ordem da matriz de Vendermonde mostrada acima '))\n",
        "\n",
        "epsilon = complex(np.cos(2*np.pi/(n)),np.sin(2*np.pi/(n)))\n",
        "\n",
        "P=[(epsilon-1)] # Definindo P0\n",
        "for i in range(1,n-1):\n",
        "    P.append((epsilon**i)*((epsilon**(i+1))-1)*(P[-1])) #Após definir P0 definir os itens demais pela recorrência\n",
        "    \n",
        "Determinante = np.prod(P) #O Determinante será o produto de todos os elementos Pk da lista definida acima\n",
        "print(f\"O valor do determinante é igual a : {Determinante:.5f}\")"
      ],
      "execution_count": null,
      "outputs": [
        {
          "output_type": "stream",
          "name": "stdout",
          "text": [
            "Insira aqui a ordem da matriz de Vendermonde mostrada acima 5\n",
            "O valor do determinante é igual a : -55.90170+0.00000j\n"
          ]
        }
      ]
    },
    {
      "cell_type": "markdown",
      "metadata": {
        "id": "GSPvVWyqH5Jy"
      },
      "source": [
        "##  Solução montando a matriz de Vandermonde e calculando seu determinante com a biblioteca Numpy"
      ]
    },
    {
      "cell_type": "code",
      "metadata": {
        "id": "CYUeAfXhH5Jy",
        "outputId": "938310cc-c128-4726-83ba-1c30d9d2ace3",
        "colab": {
          "base_uri": "https://localhost:8080/",
          "height": 225
        }
      },
      "source": [
        "D=[]\n",
        "\n",
        "for i in range(n**2):\n",
        "    D.append(epsilon**((i%n)*(i//n)))\n",
        "\n",
        "arD = np.array(D)\n",
        "\n",
        "arD = np.reshape(arD, (n, n))\n",
        "\n",
        "print(f'{np.linalg.det(arD):.5f}')\n",
        "\n",
        "df = pd.DataFrame(arD)\n",
        "display(df)"
      ],
      "execution_count": null,
      "outputs": [
        {
          "output_type": "stream",
          "name": "stdout",
          "text": [
            "-55.90170+0.00000j\n"
          ]
        },
        {
          "output_type": "display_data",
          "data": {
            "text/plain": [
              "          0                   1                   2                   3  \\\n",
              "0  1.0+0.0j  1.000000+0.000000j  1.000000+0.000000j  1.000000+0.000000j   \n",
              "1  1.0+0.0j  0.309017+0.951057j -0.809017+0.587785j -0.809017-0.587785j   \n",
              "2  1.0+0.0j -0.809017+0.587785j  0.309017-0.951057j  0.309017+0.951057j   \n",
              "3  1.0+0.0j -0.809017-0.587785j  0.309017+0.951057j  0.309017-0.951057j   \n",
              "4  1.0+0.0j  0.309017-0.951057j -0.809017-0.587785j -0.809017+0.587785j   \n",
              "\n",
              "                    4  \n",
              "0  1.000000+0.000000j  \n",
              "1  0.309017-0.951057j  \n",
              "2 -0.809017-0.587785j  \n",
              "3 -0.809017+0.587785j  \n",
              "4  0.309017+0.951057j  "
            ],
            "text/html": [
              "\n",
              "  <div id=\"df-fff1b204-213e-4a8b-ac2e-e9d4568685b0\">\n",
              "    <div class=\"colab-df-container\">\n",
              "      <div>\n",
              "<style scoped>\n",
              "    .dataframe tbody tr th:only-of-type {\n",
              "        vertical-align: middle;\n",
              "    }\n",
              "\n",
              "    .dataframe tbody tr th {\n",
              "        vertical-align: top;\n",
              "    }\n",
              "\n",
              "    .dataframe thead th {\n",
              "        text-align: right;\n",
              "    }\n",
              "</style>\n",
              "<table border=\"1\" class=\"dataframe\">\n",
              "  <thead>\n",
              "    <tr style=\"text-align: right;\">\n",
              "      <th></th>\n",
              "      <th>0</th>\n",
              "      <th>1</th>\n",
              "      <th>2</th>\n",
              "      <th>3</th>\n",
              "      <th>4</th>\n",
              "    </tr>\n",
              "  </thead>\n",
              "  <tbody>\n",
              "    <tr>\n",
              "      <th>0</th>\n",
              "      <td>1.0+0.0j</td>\n",
              "      <td>1.000000+0.000000j</td>\n",
              "      <td>1.000000+0.000000j</td>\n",
              "      <td>1.000000+0.000000j</td>\n",
              "      <td>1.000000+0.000000j</td>\n",
              "    </tr>\n",
              "    <tr>\n",
              "      <th>1</th>\n",
              "      <td>1.0+0.0j</td>\n",
              "      <td>0.309017+0.951057j</td>\n",
              "      <td>-0.809017+0.587785j</td>\n",
              "      <td>-0.809017-0.587785j</td>\n",
              "      <td>0.309017-0.951057j</td>\n",
              "    </tr>\n",
              "    <tr>\n",
              "      <th>2</th>\n",
              "      <td>1.0+0.0j</td>\n",
              "      <td>-0.809017+0.587785j</td>\n",
              "      <td>0.309017-0.951057j</td>\n",
              "      <td>0.309017+0.951057j</td>\n",
              "      <td>-0.809017-0.587785j</td>\n",
              "    </tr>\n",
              "    <tr>\n",
              "      <th>3</th>\n",
              "      <td>1.0+0.0j</td>\n",
              "      <td>-0.809017-0.587785j</td>\n",
              "      <td>0.309017+0.951057j</td>\n",
              "      <td>0.309017-0.951057j</td>\n",
              "      <td>-0.809017+0.587785j</td>\n",
              "    </tr>\n",
              "    <tr>\n",
              "      <th>4</th>\n",
              "      <td>1.0+0.0j</td>\n",
              "      <td>0.309017-0.951057j</td>\n",
              "      <td>-0.809017-0.587785j</td>\n",
              "      <td>-0.809017+0.587785j</td>\n",
              "      <td>0.309017+0.951057j</td>\n",
              "    </tr>\n",
              "  </tbody>\n",
              "</table>\n",
              "</div>\n",
              "      <button class=\"colab-df-convert\" onclick=\"convertToInteractive('df-fff1b204-213e-4a8b-ac2e-e9d4568685b0')\"\n",
              "              title=\"Convert this dataframe to an interactive table.\"\n",
              "              style=\"display:none;\">\n",
              "        \n",
              "  <svg xmlns=\"http://www.w3.org/2000/svg\" height=\"24px\"viewBox=\"0 0 24 24\"\n",
              "       width=\"24px\">\n",
              "    <path d=\"M0 0h24v24H0V0z\" fill=\"none\"/>\n",
              "    <path d=\"M18.56 5.44l.94 2.06.94-2.06 2.06-.94-2.06-.94-.94-2.06-.94 2.06-2.06.94zm-11 1L8.5 8.5l.94-2.06 2.06-.94-2.06-.94L8.5 2.5l-.94 2.06-2.06.94zm10 10l.94 2.06.94-2.06 2.06-.94-2.06-.94-.94-2.06-.94 2.06-2.06.94z\"/><path d=\"M17.41 7.96l-1.37-1.37c-.4-.4-.92-.59-1.43-.59-.52 0-1.04.2-1.43.59L10.3 9.45l-7.72 7.72c-.78.78-.78 2.05 0 2.83L4 21.41c.39.39.9.59 1.41.59.51 0 1.02-.2 1.41-.59l7.78-7.78 2.81-2.81c.8-.78.8-2.07 0-2.86zM5.41 20L4 18.59l7.72-7.72 1.47 1.35L5.41 20z\"/>\n",
              "  </svg>\n",
              "      </button>\n",
              "      \n",
              "  <style>\n",
              "    .colab-df-container {\n",
              "      display:flex;\n",
              "      flex-wrap:wrap;\n",
              "      gap: 12px;\n",
              "    }\n",
              "\n",
              "    .colab-df-convert {\n",
              "      background-color: #E8F0FE;\n",
              "      border: none;\n",
              "      border-radius: 50%;\n",
              "      cursor: pointer;\n",
              "      display: none;\n",
              "      fill: #1967D2;\n",
              "      height: 32px;\n",
              "      padding: 0 0 0 0;\n",
              "      width: 32px;\n",
              "    }\n",
              "\n",
              "    .colab-df-convert:hover {\n",
              "      background-color: #E2EBFA;\n",
              "      box-shadow: 0px 1px 2px rgba(60, 64, 67, 0.3), 0px 1px 3px 1px rgba(60, 64, 67, 0.15);\n",
              "      fill: #174EA6;\n",
              "    }\n",
              "\n",
              "    [theme=dark] .colab-df-convert {\n",
              "      background-color: #3B4455;\n",
              "      fill: #D2E3FC;\n",
              "    }\n",
              "\n",
              "    [theme=dark] .colab-df-convert:hover {\n",
              "      background-color: #434B5C;\n",
              "      box-shadow: 0px 1px 3px 1px rgba(0, 0, 0, 0.15);\n",
              "      filter: drop-shadow(0px 1px 2px rgba(0, 0, 0, 0.3));\n",
              "      fill: #FFFFFF;\n",
              "    }\n",
              "  </style>\n",
              "\n",
              "      <script>\n",
              "        const buttonEl =\n",
              "          document.querySelector('#df-fff1b204-213e-4a8b-ac2e-e9d4568685b0 button.colab-df-convert');\n",
              "        buttonEl.style.display =\n",
              "          google.colab.kernel.accessAllowed ? 'block' : 'none';\n",
              "\n",
              "        async function convertToInteractive(key) {\n",
              "          const element = document.querySelector('#df-fff1b204-213e-4a8b-ac2e-e9d4568685b0');\n",
              "          const dataTable =\n",
              "            await google.colab.kernel.invokeFunction('convertToInteractive',\n",
              "                                                     [key], {});\n",
              "          if (!dataTable) return;\n",
              "\n",
              "          const docLinkHtml = 'Like what you see? Visit the ' +\n",
              "            '<a target=\"_blank\" href=https://colab.research.google.com/notebooks/data_table.ipynb>data table notebook</a>'\n",
              "            + ' to learn more about interactive tables.';\n",
              "          element.innerHTML = '';\n",
              "          dataTable['output_type'] = 'display_data';\n",
              "          await google.colab.output.renderOutput(dataTable, element);\n",
              "          const docLink = document.createElement('div');\n",
              "          docLink.innerHTML = docLinkHtml;\n",
              "          element.appendChild(docLink);\n",
              "        }\n",
              "      </script>\n",
              "    </div>\n",
              "  </div>\n",
              "  "
            ]
          },
          "metadata": {}
        }
      ]
    }
  ]
}