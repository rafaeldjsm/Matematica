{
  "nbformat": 4,
  "nbformat_minor": 0,
  "metadata": {
    "colab": {
      "provenance": [],
      "authorship_tag": "ABX9TyOWTRa3FB/N79WhWmRGNuKf",
      "include_colab_link": true
    },
    "kernelspec": {
      "name": "python3",
      "display_name": "Python 3"
    },
    "language_info": {
      "name": "python"
    }
  },
  "cells": [
    {
      "cell_type": "markdown",
      "metadata": {
        "id": "view-in-github",
        "colab_type": "text"
      },
      "source": [
        "<a href=\"https://colab.research.google.com/github/rafaeldjsm/Matematica/blob/main/Digit_canceling_fractions_sol2.ipynb\" target=\"_parent\"><img src=\"https://colab.research.google.com/assets/colab-badge.svg\" alt=\"Open In Colab\"/></a>"
      ]
    },
    {
      "cell_type": "markdown",
      "source": [
        "The fraction  is a curious fraction. An inexperienced mathematician while attempting to simplify it may incorrectly believe that  is obtained by cancelling the s.\n",
        "\n",
        "We shall consider fractions like, , to be trivial examples.\n",
        "\n",
        "Which means fractions where trailing 0's are cancelled are trivial. So we will ignore all the cases where we have to cancel 0's.\n",
        "\n",
        "You will be given 2 integers  and .  represents the number of digits in Numerator and Denominator, and  represents the exact number of digits to be \"cancelled\" from Numerator and Denominator. Find every non-trivial fraction, (1) where numerator is less than denominator, (2) and the value of the reduced fraction is equal to the original fraction.\n",
        "\n",
        "Sum all the Numerators and the Denominators of the original fractions, and print them separated by a space.\n",
        "\n",
        "Input Format\n",
        "\n",
        "Input contains two integers  \n",
        "\n",
        "Constraints\n",
        "\n",
        "\n",
        "\n",
        "Output Format\n",
        "\n",
        "Display 2 space separated integers that denote the sum of the Numerators and the sum of the Denominators respectively of original fractions.\n",
        "Note You do not have to reduce the Numerator and Denominator.\n",
        "\n",
        "https://www.hackerrank.com/contests/projecteuler/challenges/euler033/problem\n",
        "\n",
        "2,1 - 110 322 \n",
        "\n",
        "3,1 - 77262 163829 \n",
        "\n",
        "3,2 - 7429 17305 \n",
        "\n",
        "4,1 - 12999936 28131911 \n",
        "\n",
        "4,2 - 3571225 7153900 \n",
        "\n",
        "4,3 - 255983 467405\n",
        "\n",
        "\n",
        "**What I noticed are the question criteria:**\n",
        "\n",
        "- Never cancel a **\"0\"**, even if it is not on the left.\n",
        "- When the canceled number is left with a zero, after cancellation, the problem considers correct, for example:\n",
        " **15**10 /**1**0**5**7 - After canceling the \"15\" becomes 10/07 and is accepted. The same goes for (**18** 05/**1** 0 **8** 3 canceling 18 -> 5/3).\n",
        "- It is very important to understand that 1015 when canceling 51 can generate 01 or generate 10, we must consider both hypotheses and test to know which of the two can be accepted (3451/1015 -> 34 10/51).\n",
        "- We don't count the same fraction twice, for example 3265/1306 canceling 3 is 265/106 and canceling 6 is 325/130. Even so, the fraction 3265/1306 counts only once."
      ],
      "metadata": {
        "id": "oKV4rIYfKNHF"
      }
    },
    {
      "cell_type": "code",
      "execution_count": null,
      "metadata": {
        "colab": {
          "base_uri": "https://localhost:8080/"
        },
        "id": "8E2jC50aHYDh",
        "outputId": "9896ace5-97ea-4379-e837-9cc77147e2dd"
      },
      "outputs": [
        {
          "output_type": "stream",
          "name": "stdout",
          "text": [
            "13016923 28193818\n"
          ]
        }
      ],
      "source": [
        "from itertools import combinations\n",
        "\n",
        "def int_ab(a,b):\n",
        "    '''\n",
        "    Intersection of two lists including duplicates\n",
        "    '''\n",
        "    a = list(a)\n",
        "    b = list(b)\n",
        "    c = []\n",
        "    for x in a:\n",
        "        if x in b and x != '0':\n",
        "            b.remove(x)\n",
        "            c.append(x)\n",
        "    return c\n",
        "\n",
        "\n",
        "def remol(l1,l2):\n",
        "    '''\n",
        "    recebe duas strings e as subtrai elemento a elemento\n",
        "    # '1511','11' - > '#15'\\11 :15 or \\1'#5'\\1'#1:51\n",
        "    '''\n",
        "    l1t = list(l1)\n",
        "    l2t = l1t[::-1]\n",
        "    for k in l2:\n",
        "        if k in l1t:\n",
        "            l1t.remove(k)\n",
        "        if k in l2t:\n",
        "            l2t.remove(k)\n",
        "\n",
        "    l2t.reverse()\n",
        "    return set([\"\".join(l1t), \"\".join(l2t)])\n",
        "\n",
        "n = 4\n",
        "k = 1\n",
        "\n",
        "\n",
        "start = 10**(n-1)\n",
        "end = start*10\n",
        "\n",
        "lista = []\n",
        "\n",
        "for num in range(start + 1, end):\n",
        "    st_num = str(num)\n",
        "\n",
        "    st_den = [j for j in range(start,num) if len(int_ab(st_num,str(j))) >= k]\n",
        "\n",
        "    for i in st_den:\n",
        "        frac_found = False\n",
        "        com = int_ab(st_num,str(i))\n",
        "        if k > 1:\n",
        "            com = list(set([''.join(j) for j in combinations(com, k)]))\n",
        "\n",
        "        for j in com:\n",
        "            lj = j\n",
        "            set_newd = remol(str(i),j)\n",
        "            set_newn = remol(st_num,j)\n",
        "            if frac_found:\n",
        "                break\n",
        "\n",
        "            for newd in set_newd:\n",
        "                for newn in set_newn:\n",
        "                    if (newn and (int(newd) * num == int(newn) * i)\n",
        "                        and int(newd) != 0):\n",
        "                        lista.append([num, i])\n",
        "                        frac_found = True\n",
        "                        break\n",
        "\n",
        "print(sum([k[1] for k in lista]),sum([k[0] for k in lista]))"
      ]
    }
  ]
}