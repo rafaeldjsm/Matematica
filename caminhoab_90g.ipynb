{
  "nbformat": 4,
  "nbformat_minor": 0,
  "metadata": {
    "colab": {
      "name": "caminhoab_90g.ipynb",
      "provenance": [],
      "collapsed_sections": [],
      "authorship_tag": "ABX9TyOc5j269HGJj+sMlORvi2IU",
      "include_colab_link": true
    },
    "kernelspec": {
      "name": "python3",
      "display_name": "Python 3"
    },
    "language_info": {
      "name": "python"
    }
  },
  "cells": [
    {
      "cell_type": "markdown",
      "metadata": {
        "id": "view-in-github",
        "colab_type": "text"
      },
      "source": [
        "<a href=\"https://colab.research.google.com/github/rafaeldjsm/Matematica/blob/main/caminhoab_90g.ipynb\" target=\"_parent\"><img src=\"https://colab.research.google.com/assets/colab-badge.svg\" alt=\"Open In Colab\"/></a>"
      ]
    },
    {
      "cell_type": "markdown",
      "source": [
        "# O Problema do rato no labirinto.\n",
        "\n",
        "Ajude um rato a encontrar um pedaço de queijo num labirinto como o do desenho da figura 1: Um labirinto desses pode ser representado por uma matriz retangular L, cujo elemento $L[i][j]$ vale 0 ou −1 conforme a casa correspondente do labirinto seja uma passagem livre ou uma parede, respectivamente.\n",
        "Suponha que, a cada passo, o rato possa se deslocar de apenas uma casa na vertical ou na horizontal.\n",
        "\n",
        "<p align=\"center\">\n",
        "<img src ='https://raw.githubusercontent.com/rafaeldjsm/Matematica/master/imagens/rato_labirinto.PNG' width=500px>\n",
        "</p>\n",
        "\n",
        "## Saída de Dados \n",
        "\n",
        "A saída do seu programa deve ser uma lista de coordenadas que comece pela posição inicial do rato e termine na posição inicial do queijo. Essa sequencia de coordenadas deve indicar o caminho mais curto para o rato chegar ao queijo."
      ],
      "metadata": {
        "id": "0zSGii_L-5Ju"
      }
    },
    {
      "cell_type": "code",
      "execution_count": null,
      "metadata": {
        "id": "p-2pi3C1qSrP"
      },
      "outputs": [],
      "source": [
        "import numpy as np\n",
        "\n",
        "def matab():\n",
        "    l = []\n",
        "    for i in range(6):\n",
        "        li = []\n",
        "        for j in range(11):\n",
        "            if [i,j] in [[0,2],[0,3],\n",
        "                         [1,1],[1,4],[1,6],[1,8],[1,9],\n",
        "                         [2,2],[2,4],[2,6],[2,10],\n",
        "                         [3,1],[3,3],[3,7],[3,8],\n",
        "                         [4,3],[4,5],[4,9],\n",
        "                         [5,1],[5,8]]:\n",
        "                li.append(-1)\n",
        "            else:\n",
        "                li.append(0)\n",
        "        l.append(li)\n",
        "    return np.array(l)"
      ]
    },
    {
      "cell_type": "code",
      "source": [
        "b = [5,10]\n",
        "a = [0,0]\n",
        "\n",
        "mat0 = matab().copy()\n",
        "mat0"
      ],
      "metadata": {
        "id": "ZtG_BWYFrc6Q",
        "colab": {
          "base_uri": "https://localhost:8080/"
        },
        "outputId": "e76900aa-0645-4087-cfd1-f2eb46c94e93"
      },
      "execution_count": null,
      "outputs": [
        {
          "output_type": "execute_result",
          "data": {
            "text/plain": [
              "array([[ 0,  0, -1, -1,  0,  0,  0,  0,  0,  0,  0],\n",
              "       [ 0, -1,  0,  0, -1,  0, -1,  0, -1, -1,  0],\n",
              "       [ 0,  0, -1,  0, -1,  0, -1,  0,  0,  0, -1],\n",
              "       [ 0, -1,  0, -1,  0,  0,  0, -1, -1,  0,  0],\n",
              "       [ 0,  0,  0, -1,  0, -1,  0,  0,  0, -1,  0],\n",
              "       [ 0, -1,  0,  0,  0,  0,  0,  0, -1,  0,  0]])"
            ]
          },
          "metadata": {},
          "execution_count": 2
        }
      ]
    },
    {
      "cell_type": "code",
      "source": [
        "lm1,cm1 = np.where(mat0 == -1)"
      ],
      "metadata": {
        "id": "Z3V2LWSb6Z6Q"
      },
      "execution_count": null,
      "outputs": []
    },
    {
      "cell_type": "code",
      "source": [
        "def vizinhos(x,y):\n",
        "    l = [[x,y-1],[x,y+1],[x+1,y],[x-1,y]]\n",
        "    lr = [k for k in l if k[0] >= 0 and k[1] >= 0]\n",
        "    return lr\n",
        "\n",
        "\n",
        "def wayab(mat0,a,b):\n",
        "    mat = mat0.copy()\n",
        "    li,co = mat.shape\n",
        "    b0,b1 = b\n",
        "    a0,a1 = a\n",
        "    mat[b0][b1] = 1\n",
        "\n",
        "    c0,c1 = b\n",
        "    cnt = 1\n",
        "    strt = 0 #start da lista de vizinhos\n",
        "\n",
        "    lm1,cm1 = np.where(mat0 == -1)\n",
        "    imped = [[k,j] for k,j in zip(lm1,cm1)]\n",
        "    ult = []\n",
        "\n",
        "    while (c0,c1) != (a0,a1) and cnt < 30:\n",
        "        ult = imped.copy()+ ult + [[c0,c1]]\n",
        "        viz = vizinhos(c0,c1)\n",
        "        l = np.array([mat[k,j] for k,j in viz if (k <= li-1 and j <= co-1 and [k,j] not in ult)])\n",
        "        lidx = [[k,j] for k,j in viz if (k <= li-1 and j <= co-1 and [k,j] not in ult)]\n",
        "        ll = len(lidx)\n",
        "        \n",
        "        if ll == 0:\n",
        "            imped.append([c0,c1])\n",
        "            ult = []\n",
        "            c0,c1 = b\n",
        "            cnt = 1\n",
        "            strt += 1 \n",
        "        else:\n",
        "            c0,c1 = lidx[strt % ll]\n",
        "            cnt+=1\n",
        "            mat[c0,c1] = cnt\n",
        "    print(mat)"
      ],
      "metadata": {
        "id": "sGAK0cYlu6cC"
      },
      "execution_count": null,
      "outputs": []
    },
    {
      "cell_type": "code",
      "source": [
        "wayab(mat0,a,b)"
      ],
      "metadata": {
        "id": "FdNGmOGm1A4E",
        "colab": {
          "base_uri": "https://localhost:8080/"
        },
        "outputId": "18ef2776-0fa3-4b80-a296-6031f076e3d9"
      },
      "execution_count": null,
      "outputs": [
        {
          "output_type": "stream",
          "name": "stdout",
          "text": [
            "[[26  0 -1 -1 12 11 10  9 10 11 12]\n",
            " [25 -1  0  0 -1 12 -1  8 -1 -1 13]\n",
            " [24 25 -1  0 -1 13 -1  7  6  5 -1]\n",
            " [23 -1  0 -1 15 14  0 -1 -1  4  3]\n",
            " [22 21 20 -1 16 -1  0  0  0 -1  2]\n",
            " [23 -1 19 18 17  0  0  0 -1  2  1]]\n"
          ]
        }
      ]
    }
  ]
}