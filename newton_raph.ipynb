{
 "cells": [
  {
   "cell_type": "code",
   "execution_count": 1,
   "metadata": {},
   "outputs": [],
   "source": [
    "import numpy as np\n",
    "\n",
    "def f(x):\n",
    "    return 4*np.exp(x/2)/((2+x)**2)-1\n",
    "\n",
    "\n",
    "def df(x):\n",
    "    dx = 0.01\n",
    "    return (f(x+dx) - f(x))/dx"
   ]
  },
  {
   "cell_type": "code",
   "execution_count": 2,
   "metadata": {},
   "outputs": [
    {
     "data": {
      "text/plain": [
       "(-0.26723499079994306, -0.12121475491475575)"
      ]
     },
     "execution_count": 2,
     "metadata": {},
     "output_type": "execute_result"
    }
   ],
   "source": [
    "f(1), df(1)"
   ]
  },
  {
   "cell_type": "code",
   "execution_count": 3,
   "metadata": {},
   "outputs": [
    {
     "name": "stdout",
     "output_type": "stream",
     "text": [
      "[5.025724903291431, -3.394760176700373e-05, 9]\n"
     ]
    }
   ],
   "source": [
    "''' Metodo de Newton para computar o zero de uma funcao\n",
    "Entradas: f,df, eps, itmax, x0\n",
    "saida: [raiz, iter, erraval]'''\n",
    "\n",
    "from math import *\n",
    "\n",
    "def newton(f,df,x0,eps,itmax):\n",
    "    iteracao=0\n",
    "    a=x0\n",
    "    for i in range(1,itmax+1):\n",
    "        raiz=a\n",
    "        if df(raiz) != 0: # se a derivada for zero sai    \n",
    "            raiz=raiz-f(raiz)/df(raiz)\n",
    "            erro=raiz-a\n",
    "            a=raiz\n",
    "            iteracao=i\n",
    "        else:\n",
    "            iteracao = itmax+1\n",
    "            break\n",
    "        if abs(erro) <= eps:\n",
    "            break\n",
    "    if iteracao > itmax:\n",
    "        iteracao = 0.25\n",
    "    elif iteracao == itmax:\n",
    "        iteracao = 0.75\n",
    "    return [raiz, erro, iteracao]\n",
    "\n",
    "\n",
    "L = newton(f,df,1.5,0.0001,100)\n",
    "print(L)"
   ]
  },
  {
   "cell_type": "code",
   "execution_count": 4,
   "metadata": {},
   "outputs": [
    {
     "data": {
      "text/plain": [
       "1.4811979642814777e-08"
      ]
     },
     "execution_count": 4,
     "metadata": {},
     "output_type": "execute_result"
    }
   ],
   "source": [
    "f(5.025724903291431)"
   ]
  },
  {
   "cell_type": "markdown",
   "metadata": {},
   "source": [
    "## Taylor\n",
    "\n",
    "$$ e^x = \\sum_{n=0}^{\\infty} {\\frac {x^{n}}{n!}} \\text{ Para todo x}$$\n",
    "\n",
    "Truncate Error:\n",
    "\n",
    "$$ |Rn(x)| ≤ \\frac {M}{(n+1)!} \\cdot |x−x0|^{n+1} \\text{ for |x−x0|≤r} $$\n",
    "\n",
    "$$ M \\text{ é o n-ésimo termo do polinomio} $$"
   ]
  },
  {
   "cell_type": "code",
   "execution_count": 7,
   "metadata": {},
   "outputs": [],
   "source": [
    "def myexp(x):\n",
    "    e=0\n",
    "    pres=0.0001\n",
    "    s=1\n",
    "    i=1\n",
    "    while s>pres:\n",
    "        e=e+s\n",
    "        s=(x**i)/factorial(i)\n",
    "        i=i+1\n",
    "    return e"
   ]
  },
  {
   "cell_type": "code",
   "execution_count": 8,
   "metadata": {},
   "outputs": [
    {
     "data": {
      "text/plain": [
       "(194.2216436585341, 194.2216069232776)"
      ]
     },
     "execution_count": 8,
     "metadata": {},
     "output_type": "execute_result"
    }
   ],
   "source": [
    "np.exp(5.269), myexp(5.269)"
   ]
  },
  {
   "cell_type": "code",
   "execution_count": 9,
   "metadata": {},
   "outputs": [],
   "source": [
    "def myexp2(x, n = 7):\n",
    "    e=0\n",
    "    for i in range(0,n): # Soma dos n primeiros termos da série\n",
    "        e=e+(x**i)/factorial(i)\n",
    "    return e"
   ]
  },
  {
   "cell_type": "code",
   "execution_count": 10,
   "metadata": {},
   "outputs": [
    {
     "data": {
      "text/plain": [
       "(194.2216436585341, 194.2216069232776, 140.20615080326348)"
      ]
     },
     "execution_count": 10,
     "metadata": {},
     "output_type": "execute_result"
    }
   ],
   "source": [
    "np.exp(5.269), myexp(5.269), myexp2(5.269)"
   ]
  },
  {
   "cell_type": "code",
   "execution_count": 30,
   "metadata": {},
   "outputs": [],
   "source": [
    "def erro_trunc(x,n =5):\n",
    "    fnx = myexp(x)\n",
    "    return (fnx/factorial(n+1))*(x**(n+1))"
   ]
  },
  {
   "cell_type": "code",
   "execution_count": 38,
   "metadata": {},
   "outputs": [
    {
     "data": {
      "text/plain": [
       "(7.38905609893065, 7.388994708994708, 7.355555555555555)"
      ]
     },
     "execution_count": 38,
     "metadata": {},
     "output_type": "execute_result"
    }
   ],
   "source": [
    "np.exp(2), myexp(2), myexp2(2)"
   ]
  },
  {
   "cell_type": "code",
   "execution_count": 40,
   "metadata": {},
   "outputs": [
    {
     "data": {
      "text/plain": [
       "(0.6567995296884185, -0.033500543375095226)"
      ]
     },
     "execution_count": 40,
     "metadata": {},
     "output_type": "execute_result"
    }
   ],
   "source": [
    "erro_trunc(2), myexp2(2) - np.exp(2)"
   ]
  }
 ],
 "metadata": {
  "kernelspec": {
   "display_name": "Python 3",
   "language": "python",
   "name": "python3"
  },
  "language_info": {
   "codemirror_mode": {
    "name": "ipython",
    "version": 3
   },
   "file_extension": ".py",
   "mimetype": "text/x-python",
   "name": "python",
   "nbconvert_exporter": "python",
   "pygments_lexer": "ipython3",
   "version": "3.8.5"
  }
 },
 "nbformat": 4,
 "nbformat_minor": 4
}
