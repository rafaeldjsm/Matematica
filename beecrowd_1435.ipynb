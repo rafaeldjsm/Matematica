{
  "nbformat": 4,
  "nbformat_minor": 0,
  "metadata": {
    "colab": {
      "name": "beecrowd_1435.ipynb",
      "provenance": [],
      "authorship_tag": "ABX9TyNjLuqzov11R14arl5O7WCg",
      "include_colab_link": true
    },
    "kernelspec": {
      "name": "python3",
      "display_name": "Python 3"
    },
    "language_info": {
      "name": "python"
    }
  },
  "cells": [
    {
      "cell_type": "markdown",
      "metadata": {
        "id": "view-in-github",
        "colab_type": "text"
      },
      "source": [
        "<a href=\"https://colab.research.google.com/github/rafaeldjsm/Matematica/blob/main/beecrowd_1435.ipynb\" target=\"_parent\"><img src=\"https://colab.research.google.com/assets/colab-badge.svg\" alt=\"Open In Colab\"/></a>"
      ]
    },
    {
      "cell_type": "code",
      "execution_count": 15,
      "metadata": {
        "id": "hY0xDSIBkIND"
      },
      "outputs": [],
      "source": [
        "def matx(n):\n",
        "    l = \"\"\n",
        "    # linha\n",
        "    for i in range(1,n+1):\n",
        "        l2 = []\n",
        "        #coluna\n",
        "        for j in range(1,n+1):\n",
        "            lsr = 1 if j != n else 0\n",
        "            l += str(min(i,n+1-i,j,n+1-j)).rjust(3)+\" \"*lsr\n",
        "        l+=\"\\n\"\n",
        "    return l"
      ]
    },
    {
      "cell_type": "code",
      "source": [
        "def pmat():\n",
        "    # Lista para guardar os inputs\n",
        "    l = []\n",
        "    dim = int(input(\"\"))\n",
        "    while dim != 0:\n",
        "        l.append(dim)\n",
        "        dim = int(input(\"\"))\n",
        "    for k in l:\n",
        "        if k != l[-1]:\n",
        "            print(matx(k))\n",
        "        else:\n",
        "            print(matx(k))"
      ],
      "metadata": {
        "id": "ka5wpehklXag"
      },
      "execution_count": 16,
      "outputs": []
    },
    {
      "cell_type": "code",
      "source": [
        "pmat()"
      ],
      "metadata": {
        "colab": {
          "base_uri": "https://localhost:8080/"
        },
        "id": "1vPLaxrdpLK4",
        "outputId": "1e16e267-dc64-4711-af9a-1efd2c64d083"
      },
      "execution_count": 17,
      "outputs": [
        {
          "output_type": "stream",
          "name": "stdout",
          "text": [
            "1\n",
            "2\n",
            "3\n",
            "4\n",
            "5\n",
            "0\n",
            "  1\n",
            "\n",
            "  1   1\n",
            "  1   1\n",
            "\n",
            "  1   1   1\n",
            "  1   2   1\n",
            "  1   1   1\n",
            "\n",
            "  1   1   1   1\n",
            "  1   2   2   1\n",
            "  1   2   2   1\n",
            "  1   1   1   1\n",
            "\n",
            "  1   1   1   1   1\n",
            "  1   2   2   2   1\n",
            "  1   2   3   2   1\n",
            "  1   2   2   2   1\n",
            "  1   1   1   1   1\n",
            "\n"
          ]
        }
      ]
    },
    {
      "cell_type": "code",
      "source": [
        "st1 = '''\n",
        "  1\n",
        " \n",
        "  1   1\n",
        "  1   1\n",
        " \n",
        "  1   1   1\n",
        "  1   2   1\n",
        "  1   1   1\n",
        "   \n",
        "  1   1   1   1\n",
        "  1   2   2   1\n",
        "  1   2   2   1\n",
        "  1   1   1   1\n",
        " \n",
        "  1   1   1   1   1\n",
        "  1   2   2   2   1\n",
        "  1   2   3   2   1\n",
        "  1   2   2   2   1\n",
        "  1   1   1   1   1'''"
      ],
      "metadata": {
        "id": "KZU8cQvj4kD6"
      },
      "execution_count": 7,
      "outputs": []
    },
    {
      "cell_type": "code",
      "source": [
        "st2 = '''\n",
        "  1 \n",
        "\n",
        "  1   1 \n",
        "  1   1 \n",
        "\n",
        "  1   1   1 \n",
        "  1   2   1 \n",
        "  1   1   1 \n",
        "\n",
        "  1   1   1   1 \n",
        "  1   2   2   1 \n",
        "  1   2   2   1 \n",
        "  1   1   1   1 \n",
        "\n",
        "  1   1   1   1   1 \n",
        "  1   2   2   2   1 \n",
        "  1   2   3   2   1 \n",
        "  1   2   2   2   1 \n",
        "  1   1   1   1   1 '''"
      ],
      "metadata": {
        "id": "0jmPCofJ4ujK"
      },
      "execution_count": 8,
      "outputs": []
    },
    {
      "cell_type": "code",
      "source": [
        "st1 == st2"
      ],
      "metadata": {
        "colab": {
          "base_uri": "https://localhost:8080/"
        },
        "id": "g_fQQeaE4yAz",
        "outputId": "09d62afb-1fbc-4fcb-9f83-e9dd378e3b56"
      },
      "execution_count": 9,
      "outputs": [
        {
          "output_type": "execute_result",
          "data": {
            "text/plain": [
              "False"
            ]
          },
          "metadata": {},
          "execution_count": 9
        }
      ]
    }
  ]
}