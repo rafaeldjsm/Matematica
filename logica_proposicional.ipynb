{
 "cells": [
  {
   "cell_type": "code",
   "execution_count": 1,
   "metadata": {},
   "outputs": [],
   "source": [
    "def prodcuto_cart(lista,repeticoes=2):\n",
    "\n",
    "    res = lista\n",
    "    \n",
    "    if repeticoes > 1:\n",
    "        res = [(a, b) for a in res for b in lista]\n",
    "        for _ in range(repeticoes-2):\n",
    "            res = [(*a, b) for a in res for b in lista] \n",
    "        \n",
    "    return res"
   ]
  },
  {
   "cell_type": "code",
   "execution_count": 2,
   "metadata": {},
   "outputs": [
    {
     "data": {
      "text/plain": [
       "[(0, 0, 0),\n",
       " (0, 0, 1),\n",
       " (0, 1, 0),\n",
       " (0, 1, 1),\n",
       " (1, 0, 0),\n",
       " (1, 0, 1),\n",
       " (1, 1, 0),\n",
       " (1, 1, 1)]"
      ]
     },
     "execution_count": 2,
     "metadata": {},
     "output_type": "execute_result"
    }
   ],
   "source": [
    "boolist = [0,1]\n",
    "res_x = prodcuto_cart(boolist,3)\n",
    "res_x"
   ]
  },
  {
   "cell_type": "code",
   "execution_count": 3,
   "metadata": {},
   "outputs": [
    {
     "name": "stdout",
     "output_type": "stream",
     "text": [
      "True True\n",
      "True True\n",
      "True True\n",
      "True True\n",
      "True True\n",
      "True True\n",
      "True True\n",
      "False False\n",
      "É UMA TAUTOLOGIA\n"
     ]
    }
   ],
   "source": [
    "taut = []\n",
    "for k in res_x:\n",
    "    a = True if k[0]==1 else False\n",
    "    b = True if k[1]==1 else False\n",
    "    c = True if k[2]==1 else False\n",
    "    print(not(a and b and c),((not a) or (not b) or (not c)))\n",
    "    taut.append(not(a and b and c)==((not a) or (not b) or (not c)))\n",
    "    \n",
    "if any(taut)==False:\n",
    "    print(\"NÃO É UMA TAUTOLOGIA\")\n",
    "else:\n",
    "    print(\"É UMA TAUTOLOGIA\")"
   ]
  },
  {
   "cell_type": "code",
   "execution_count": 4,
   "metadata": {},
   "outputs": [],
   "source": [
    "def se_entao(p,q):\n",
    "    if p == True and b == False:\n",
    "        return False\n",
    "    else:\n",
    "        return True\n",
    "    \n",
    "def se_esomente(p,q):\n",
    "    if p == b:\n",
    "        return True\n",
    "    else:\n",
    "        return False"
   ]
  },
  {
   "cell_type": "code",
   "execution_count": 5,
   "metadata": {},
   "outputs": [
    {
     "data": {
      "text/plain": [
       "[(0, 0), (0, 1), (1, 0), (1, 1)]"
      ]
     },
     "execution_count": 5,
     "metadata": {},
     "output_type": "execute_result"
    }
   ],
   "source": [
    "p2 = prodcuto_cart(boolist,2)\n",
    "p2"
   ]
  },
  {
   "cell_type": "code",
   "execution_count": 6,
   "metadata": {},
   "outputs": [
    {
     "name": "stdout",
     "output_type": "stream",
     "text": [
      "True\n",
      "True\n",
      "False\n",
      "True\n"
     ]
    }
   ],
   "source": [
    "for k in p2:\n",
    "    a = True if k[0]==1 else False\n",
    "    b = True if k[1]==1 else False\n",
    "    print(se_entao(a,b))"
   ]
  },
  {
   "cell_type": "code",
   "execution_count": 7,
   "metadata": {},
   "outputs": [
    {
     "name": "stdout",
     "output_type": "stream",
     "text": [
      "True\n",
      "False\n",
      "False\n",
      "True\n"
     ]
    }
   ],
   "source": [
    "for k in p2:\n",
    "    a = True if k[0]==1 else False\n",
    "    b = True if k[1]==1 else False\n",
    "    print(se_esomente(a,b))"
   ]
  },
  {
   "cell_type": "code",
   "execution_count": 8,
   "metadata": {},
   "outputs": [
    {
     "name": "stdout",
     "output_type": "stream",
     "text": [
      "False False\n",
      "False True\n"
     ]
    }
   ],
   "source": [
    "for k in p2:\n",
    "    p = True if k[0]==1 else False\n",
    "    q = True if k[1]==1 else False\n",
    "    if se_entao(p,q) and not p:\n",
    "        print(p,q)"
   ]
  }
 ],
 "metadata": {
  "kernelspec": {
   "display_name": "Python 3",
   "language": "python",
   "name": "python3"
  },
  "language_info": {
   "codemirror_mode": {
    "name": "ipython",
    "version": 3
   },
   "file_extension": ".py",
   "mimetype": "text/x-python",
   "name": "python",
   "nbconvert_exporter": "python",
   "pygments_lexer": "ipython3",
   "version": "3.8.5"
  }
 },
 "nbformat": 4,
 "nbformat_minor": 4
}
