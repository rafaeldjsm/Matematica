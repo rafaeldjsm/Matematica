{
 "cells": [
  {
   "cell_type": "code",
   "execution_count": 1,
   "metadata": {},
   "outputs": [
    {
     "name": "stdout",
     "output_type": "stream",
     "text": [
      "Das 1000000 amostras de 31060 tiveram x[5] menor que 0.5, um percentual de 3.1060%\n",
      "Já x[3] teve valor médio de 50.0496%\n"
     ]
    }
   ],
   "source": [
    "import random as rnd\n",
    "\n",
    "n = 1000_000\n",
    "\n",
    "pop = [rnd.random() for k in range(n)]\n",
    "x5_m = 0 # Conta quando x5 é menor que 0.5\n",
    "medx3 = 0\n",
    "\n",
    "for k in range(n):\n",
    "    am = sorted(rnd.sample(pop,5))\n",
    "    medx3 += am[2]\n",
    "    if am[4] < 0.5:\n",
    "        x5_m += 1\n",
    "\n",
    "print(f\"Das {n} amostras {x5_m} tiveram x[5] menor que 0.5, um percentual de {x5_m/n:.4%}\")\n",
    "\n",
    "print(f\"Já x[3] teve valor médio de {medx3/n:.4%}\")"
   ]
  },
  {
   "cell_type": "code",
   "execution_count": null,
   "metadata": {},
   "outputs": [],
   "source": []
  }
 ],
 "metadata": {
  "kernelspec": {
   "display_name": "Python 3",
   "language": "python",
   "name": "python3"
  },
  "language_info": {
   "codemirror_mode": {
    "name": "ipython",
    "version": 3
   },
   "file_extension": ".py",
   "mimetype": "text/x-python",
   "name": "python",
   "nbconvert_exporter": "python",
   "pygments_lexer": "ipython3",
   "version": "3.8.5"
  }
 },
 "nbformat": 4,
 "nbformat_minor": 4
}
