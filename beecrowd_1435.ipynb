{
  "nbformat": 4,
  "nbformat_minor": 0,
  "metadata": {
    "colab": {
      "name": "beecrowd_1435.ipynb",
      "provenance": [],
      "authorship_tag": "ABX9TyMERYuqqt1AlTWmrv1X0v9k",
      "include_colab_link": true
    },
    "kernelspec": {
      "name": "python3",
      "display_name": "Python 3"
    },
    "language_info": {
      "name": "python"
    }
  },
  "cells": [
    {
      "cell_type": "markdown",
      "metadata": {
        "id": "view-in-github",
        "colab_type": "text"
      },
      "source": [
        "<a href=\"https://colab.research.google.com/github/rafaeldjsm/Matematica/blob/main/beecrowd_1435.ipynb\" target=\"_parent\"><img src=\"https://colab.research.google.com/assets/colab-badge.svg\" alt=\"Open In Colab\"/></a>"
      ]
    },
    {
      "cell_type": "code",
      "execution_count": 15,
      "metadata": {
        "id": "hY0xDSIBkIND"
      },
      "outputs": [],
      "source": [
        "def matx(n):\n",
        "    l = \"\"\n",
        "    # linha\n",
        "    for i in range(1,n+1):\n",
        "        l2 = []\n",
        "        #coluna\n",
        "        for j in range(1,n+1):\n",
        "            lsr = 1 if j != n else 0\n",
        "            l += str(min(i,n+1-i,j,n+1-j)).rjust(3)+\" \"*lsr\n",
        "        l+=\"\\n\"\n",
        "    return l"
      ]
    },
    {
      "cell_type": "code",
      "source": [
        "def pmat():\n",
        "    # Lista para guardar os inputs\n",
        "    l = []\n",
        "    dim = int(input(\"\"))\n",
        "    while dim != 0:\n",
        "        l.append(dim)\n",
        "        dim = int(input(\"\"))\n",
        "    for k in l:\n",
        "        if k != l[-1]:\n",
        "            print(matx(k))\n",
        "        else:\n",
        "            print(matx(k))"
      ],
      "metadata": {
        "id": "ka5wpehklXag"
      },
      "execution_count": 16,
      "outputs": []
    },
    {
      "cell_type": "code",
      "source": [
        "pmat()"
      ],
      "metadata": {
        "colab": {
          "base_uri": "https://localhost:8080/"
        },
        "id": "1vPLaxrdpLK4",
        "outputId": "1e16e267-dc64-4711-af9a-1efd2c64d083"
      },
      "execution_count": 17,
      "outputs": [
        {
          "output_type": "stream",
          "name": "stdout",
          "text": [
            "1\n",
            "2\n",
            "3\n",
            "4\n",
            "5\n",
            "0\n",
            "  1\n",
            "\n",
            "  1   1\n",
            "  1   1\n",
            "\n",
            "  1   1   1\n",
            "  1   2   1\n",
            "  1   1   1\n",
            "\n",
            "  1   1   1   1\n",
            "  1   2   2   1\n",
            "  1   2   2   1\n",
            "  1   1   1   1\n",
            "\n",
            "  1   1   1   1   1\n",
            "  1   2   2   2   1\n",
            "  1   2   3   2   1\n",
            "  1   2   2   2   1\n",
            "  1   1   1   1   1\n",
            "\n"
          ]
        }
      ]
    },
    {
      "cell_type": "code",
      "source": [
        "while True:\n",
        "    try:\n",
        "        N = int(input())\n",
        "\n",
        "        if(N == 0):\n",
        "            break\n",
        "\n",
        "        for i in range(N):\n",
        "            print(f'{i + 1:3d}', end='')\n",
        "            for j in range(1, N):\n",
        "                print(\n",
        "                    f'{(abs(i - j) + 1):4d}', end='')\n",
        "            print('')\n",
        "        print('')\n",
        "    except EOFError:\n",
        "        break"
      ],
      "metadata": {
        "colab": {
          "base_uri": "https://localhost:8080/"
        },
        "id": "KZU8cQvj4kD6",
        "outputId": "5725d63e-77a4-49ef-d439-814b071fbdbe"
      },
      "execution_count": 18,
      "outputs": [
        {
          "name": "stdout",
          "output_type": "stream",
          "text": [
            "1\n",
            "  1\n",
            "\n",
            "2\n",
            "  1   2\n",
            "  2   1\n",
            "\n",
            "3\n",
            "  1   2   3\n",
            "  2   1   2\n",
            "  3   2   1\n",
            "\n",
            "4\n",
            "  1   2   3   4\n",
            "  2   1   2   3\n",
            "  3   2   1   2\n",
            "  4   3   2   1\n",
            "\n",
            "5\n",
            "  1   2   3   4   5\n",
            "  2   1   2   3   4\n",
            "  3   2   1   2   3\n",
            "  4   3   2   1   2\n",
            "  5   4   3   2   1\n",
            "\n",
            "0\n"
          ]
        }
      ]
    }
  ]
}