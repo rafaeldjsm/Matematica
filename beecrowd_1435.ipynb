{
  "nbformat": 4,
  "nbformat_minor": 0,
  "metadata": {
    "colab": {
      "name": "beecrowd_1435.ipynb",
      "provenance": [],
      "authorship_tag": "ABX9TyPf6pYQaSO2N2o0aG6ziRnx",
      "include_colab_link": true
    },
    "kernelspec": {
      "name": "python3",
      "display_name": "Python 3"
    },
    "language_info": {
      "name": "python"
    }
  },
  "cells": [
    {
      "cell_type": "markdown",
      "metadata": {
        "id": "view-in-github",
        "colab_type": "text"
      },
      "source": [
        "<a href=\"https://colab.research.google.com/github/rafaeldjsm/Matematica/blob/main/beecrowd_1435.ipynb\" target=\"_parent\"><img src=\"https://colab.research.google.com/assets/colab-badge.svg\" alt=\"Open In Colab\"/></a>"
      ]
    },
    {
      "cell_type": "code",
      "execution_count": 1,
      "metadata": {
        "id": "hY0xDSIBkIND"
      },
      "outputs": [],
      "source": [
        "def matx(n):\n",
        "    l = \"\"\n",
        "    # linha\n",
        "    for i in range(1,n+1):\n",
        "        l2 = []\n",
        "        #coluna\n",
        "        for j in range(1,n+1):\n",
        "            l += str(min(i,n+1-i,j,n+1-j)).rjust(3)\n",
        "        l+=\"\\n\"\n",
        "    return l"
      ]
    },
    {
      "cell_type": "code",
      "source": [
        "def pmat():\n",
        "    # Lista para guardar os inputs\n",
        "    l = []\n",
        "    dim = int(input(\"\"))\n",
        "    while dim != 0:\n",
        "        l.append(dim)\n",
        "        dim = int(input(\"\"))\n",
        "    for k in l:\n",
        "        print(matx(k))"
      ],
      "metadata": {
        "id": "ka5wpehklXag"
      },
      "execution_count": 2,
      "outputs": []
    },
    {
      "cell_type": "code",
      "source": [
        "pmat()"
      ],
      "metadata": {
        "colab": {
          "base_uri": "https://localhost:8080/"
        },
        "id": "1vPLaxrdpLK4",
        "outputId": "a35da1ba-5470-4dd2-b524-fa1128388a4d"
      },
      "execution_count": 3,
      "outputs": [
        {
          "output_type": "stream",
          "name": "stdout",
          "text": [
            "1\n",
            "2\n",
            "3\n",
            "4\n",
            "5\n",
            "6\n",
            "0\n",
            "  1\n",
            "\n",
            "  1  1\n",
            "  1  1\n",
            "\n",
            "  1  1  1\n",
            "  1  2  1\n",
            "  1  1  1\n",
            "\n",
            "  1  1  1  1\n",
            "  1  2  2  1\n",
            "  1  2  2  1\n",
            "  1  1  1  1\n",
            "\n",
            "  1  1  1  1  1\n",
            "  1  2  2  2  1\n",
            "  1  2  3  2  1\n",
            "  1  2  2  2  1\n",
            "  1  1  1  1  1\n",
            "\n",
            "  1  1  1  1  1  1\n",
            "  1  2  2  2  2  1\n",
            "  1  2  3  3  2  1\n",
            "  1  2  3  3  2  1\n",
            "  1  2  2  2  2  1\n",
            "  1  1  1  1  1  1\n",
            "\n"
          ]
        }
      ]
    }
  ]
}