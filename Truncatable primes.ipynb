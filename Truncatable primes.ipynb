{
 "cells": [
  {
   "cell_type": "markdown",
   "id": "4a27796c",
   "metadata": {},
   "source": [
    "# Project Euler #37: Truncatable primes\n",
    "\n",
    "[Project Euler ](https://projecteuler.net/problem=37)\n",
    "\n",
    "[Project Euler HackerRank](https://www.hackerrank.com/contests/projecteuler/challenges/euler037/problem)\n",
    "\n",
    "The number 3797 has an interesting property. Being prime itself, it is possible to continuously remove digits from left to right, and remain prime at each stage: 3797, 797, 97, and 7. Similarly we can work from right to left: 3797, 379, 37, and 3.\n",
    "\n",
    "Find the sum of the only eleven primes that are both truncatable from left to right and right to left.\n",
    "\n",
    "NOTE: 2, 3, 5, and 7 are not considered to be truncatable primes."
   ]
  },
  {
   "cell_type": "code",
   "execution_count": null,
   "id": "99b30f62",
   "metadata": {
    "ExecuteTime": {
     "start_time": "2022-10-28T16:12:29.944Z"
    }
   },
   "outputs": [
    {
     "name": "stdout",
     "output_type": "stream",
     "text": [
      "Qual o valor de deseja testar: 1000000000\n"
     ]
    }
   ],
   "source": [
    "from math import sqrt\n",
    "\n",
    "# Verificando todos os primos truncaveis de ambos os lados menores que n\n",
    "\n",
    "n = int(input('Qual o valor de deseja testar: '))\n",
    "nsq = int(sqrt(n))\n",
    "l0 = [*range(n+1)]\n",
    "l0[0] = l0[1] = 0\n",
    "cnt=0\n",
    "i = 2\n",
    "s = 0\n",
    "for k in range(2,n+1):\n",
    "    # Crivo de Eratostenes\n",
    "    item = l0[k]\n",
    "    if k <= nsq:\n",
    "        cnt+=1\n",
    "        if item:\n",
    "            for j in range(k*k,n+1,k):\n",
    "                l0[j] = 0\n",
    "                \n",
    "    # Apenas os numeros com mais de um digito\n",
    "    if item > 10:\n",
    "        ldge = ldgd = str(item)\n",
    "        # Apenas se todos os digitos forem impares\n",
    "        # a excecao do 2 que e primo\n",
    "        if all(int(b) % 2 == 1 or int(b)==2 for b in ldge):\n",
    "            for _ in range(len(ldge)-1):\n",
    "                ldge = ldge[1:]\n",
    "                ldgd = ldgd[:-1]\n",
    "                rtoe = int(ldge)\n",
    "                rtod = int(ldgd)\n",
    "                if not (l0[rtoe] and l0[rtod]):\n",
    "                    break\n",
    "            if l0[rtoe] and l0[rtod]:\n",
    "                print(item)\n",
    "                s+=item\n",
    "print(\"A soma de todos os primos truncaveis de ambos os lados e menores que n e \",s)"
   ]
  }
 ],
 "metadata": {
  "kernelspec": {
   "display_name": "Python 3 (ipykernel)",
   "language": "python",
   "name": "python3"
  },
  "language_info": {
   "codemirror_mode": {
    "name": "ipython",
    "version": 3
   },
   "file_extension": ".py",
   "mimetype": "text/x-python",
   "name": "python",
   "nbconvert_exporter": "python",
   "pygments_lexer": "ipython3",
   "version": "3.10.6"
  },
  "varInspector": {
   "cols": {
    "lenName": 16,
    "lenType": 16,
    "lenVar": 40
   },
   "kernels_config": {
    "python": {
     "delete_cmd_postfix": "",
     "delete_cmd_prefix": "del ",
     "library": "var_list.py",
     "varRefreshCmd": "print(var_dic_list())"
    },
    "r": {
     "delete_cmd_postfix": ") ",
     "delete_cmd_prefix": "rm(",
     "library": "var_list.r",
     "varRefreshCmd": "cat(var_dic_list()) "
    }
   },
   "types_to_exclude": [
    "module",
    "function",
    "builtin_function_or_method",
    "instance",
    "_Feature"
   ],
   "window_display": false
  }
 },
 "nbformat": 4,
 "nbformat_minor": 5
}
