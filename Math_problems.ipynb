{
  "nbformat": 4,
  "nbformat_minor": 0,
  "metadata": {
    "colab": {
      "provenance": [],
      "authorship_tag": "ABX9TyM1W+/l6X0J0lBFh+2Enqya",
      "include_colab_link": true
    },
    "kernelspec": {
      "name": "python3",
      "display_name": "Python 3"
    },
    "language_info": {
      "name": "python"
    }
  },
  "cells": [
    {
      "cell_type": "markdown",
      "metadata": {
        "id": "view-in-github",
        "colab_type": "text"
      },
      "source": [
        "<a href=\"https://colab.research.google.com/github/rafaeldjsm/Matematica/blob/main/Math_problems.ipynb\" target=\"_parent\"><img src=\"https://colab.research.google.com/assets/colab-badge.svg\" alt=\"Open In Colab\"/></a>"
      ]
    },
    {
      "cell_type": "markdown",
      "source": [
        "Uma das formas de avaliar um sistema de comunicação digital é por meio da taxa de erro de bit, abreviada como BER (do inglês Bit Error Rate). Esta quantidade de ruído é medida por uma grandeza denominada Relação Sinal-Ruído, abreviada por SNR (do inglês Signal-toNoise Ratio). Quanto menor a SNR, mais ruído o ambiente adiciona ao sinal transmitido. Suponha que o sistema de comunicação binário apresente uma BER denotado por b(x) em função de SNR (x) é dada por $b t = 12e^{–2x}$\n",
        "\n",
        "a) Faça um gráfico da BER em função da SNR para valores de SNR entre 0 e 100.\n",
        "\n",
        "b) Qual a Taxa de variação de Erro de Bit (BER) quando SNR for 2? O que podemos interpretar da função nesse valor?"
      ],
      "metadata": {
        "id": "aBBXsbsgd2qU"
      }
    },
    {
      "cell_type": "code",
      "source": [
        "import numpy as np\n",
        "import seaborn as sns\n",
        "\n",
        "SNR = np. linspace(0,100,500)\n",
        "BER = 12*np.exp(-2*SNR)\n",
        "data = {'SNR':SNR,'BER':BER}\n",
        "sns.lineplot(x='SNR',y='BER',data = data).set(title='$BER = 12 \\cdot e^{-2 \\cdot SNR}$');"
      ],
      "metadata": {
        "colab": {
          "base_uri": "https://localhost:8080/",
          "height": 299
        },
        "id": "dVo7pUguS25Q",
        "outputId": "fc53b713-fb3c-4dd4-e5f1-4427fae58bfc"
      },
      "execution_count": 99,
      "outputs": [
        {
          "output_type": "display_data",
          "data": {
            "text/plain": [
              "<Figure size 432x288 with 1 Axes>"
            ],
            "image/png": "[encoded data removed]"
          },
          "metadata": {
            "needs_background": "light"
          }
        }
      ]
    },
    {
      "cell_type": "code",
      "source": [
        "SNR = np. linspace(0,5,200)\n",
        "BER = 12*np.exp(-2*SNR)\n",
        "data = {'SNR':SNR,'BER':BER}\n",
        "sns.lineplot(x='SNR',y='BER',data = data).set(title='$BER = 12 \\cdot e^{-2 \\cdot SNR}$');"
      ],
      "metadata": {
        "colab": {
          "base_uri": "https://localhost:8080/",
          "height": 299
        },
        "id": "J-Ybl-LlkEKd",
        "outputId": "17b029bd-14eb-4176-863c-ae3280b0f4cd"
      },
      "execution_count": 101,
      "outputs": [
        {
          "output_type": "display_data",
          "data": {
            "text/plain": [
              "<Figure size 432x288 with 1 Axes>"
            ],
            "image/png": "[encoded data removed]"
          },
          "metadata": {
            "needs_background": "light"
          }
        }
      ]
    },
    {
      "cell_type": "code",
      "source": [
        "import sympy as sp\n",
        "\n",
        "x1 = sp.symbols('x1')\n",
        "\n",
        "sp.diff(12*sp.exp(-2*x1))"
      ],
      "metadata": {
        "colab": {
          "base_uri": "https://localhost:8080/",
          "height": 38
        },
        "id": "yi5KxyoOh_Gu",
        "outputId": "4166209f-5593-45a5-9a02-8b19d3ab3736"
      },
      "execution_count": 92,
      "outputs": [
        {
          "output_type": "execute_result",
          "data": {
            "text/plain": [
              "-24*exp(-2*x1)"
            ],
            "text/latex": "$\\displaystyle - 24 e^{- 2 x_{1}}$"
          },
          "metadata": {},
          "execution_count": 92
        }
      ]
    },
    {
      "cell_type": "code",
      "source": [
        "-24*np.exp(-2*2)"
      ],
      "metadata": {
        "colab": {
          "base_uri": "https://localhost:8080/"
        },
        "id": "6_E5TEjxj3JX",
        "outputId": "2896db4e-fbea-4caf-f0b1-46a22ed26fc3"
      },
      "execution_count": 93,
      "outputs": [
        {
          "output_type": "execute_result",
          "data": {
            "text/plain": [
              "-0.4395753333296203"
            ]
          },
          "metadata": {},
          "execution_count": 93
        }
      ]
    },
    {
      "cell_type": "markdown",
      "source": [
        "Em um universo de 140 números no total\n",
        "\n",
        "Eu possuo 5 números\n",
        "\n",
        "Será feito o sorteio de 2 números mensais\n",
        "\n",
        "A partir do segundo sorteio terá reposição ,ou seja, os dois números sorteados voltam ao globo\n",
        "\n",
        "a)Qual a probabilidade de um dos meus 5 números ser sorteado no primeiro sorteio.\n",
        "\n",
        "b)Qual a probabilidade de um dos meus 5 números ser sorteado até o sorteio 12 , 24 , 36\n",
        "\n",
        "c)) Qual a probabilidade de 2 dos meus números seres sorteados até o sorteio 24\n",
        "\n",
        "\n",
        "Concordo até a letra a) da resposta da Professora Caroline D."
      ],
      "metadata": {
        "id": "a8hfksPVIlBQ"
      }
    },
    {
      "cell_type": "code",
      "execution_count": 19,
      "metadata": {
        "colab": {
          "base_uri": "https://localhost:8080/"
        },
        "id": "J2O-zZxLIiZT",
        "outputId": "c2b79e49-9d9d-4c02-86f3-634664d46b7e"
      },
      "outputs": [
        {
          "output_type": "stream",
          "name": "stdout",
          "text": [
            "Python 3.7.13\n"
          ]
        }
      ],
      "source": [
        "!python --version # math.comb(n, 2) is Python 3.8"
      ]
    },
    {
      "cell_type": "code",
      "source": [
        "from itertools import permutations\n",
        "from math import factorial\n",
        "\n",
        "# \tArranjo - > Ordem\tÉ importante. A(n,r) = n! / (n-r)!\n",
        "def arranjo(n,r):\n",
        "    return factorial(n)//factorial(n-r)\n",
        "\n",
        "#  Combinação - > Ordem\tnão é importante. C(n,r) = n! / ((n-r)!*r!)\n",
        "def combinacao(n,r):\n",
        "    return arranjo(n,r)//factorial(r)\n",
        "\n",
        "caracteres = [0, 1, 2]\n",
        "n = len(caracteres)\n",
        "\n",
        "for subset in permutations(caracteres, 2): # Arranjo\n",
        "    print(subset)\n",
        "print(len(list(permutations(caracteres, 2))),factorial(n)//factorial(n-2),arranjo(n,2))"
      ],
      "metadata": {
        "colab": {
          "base_uri": "https://localhost:8080/"
        },
        "id": "KqVJlryeI2pP",
        "outputId": "1141e035-2ac9-43df-b0f6-34b5b01e7ea2"
      },
      "execution_count": 32,
      "outputs": [
        {
          "output_type": "stream",
          "name": "stdout",
          "text": [
            "(0, 1)\n",
            "(0, 2)\n",
            "(1, 0)\n",
            "(1, 2)\n",
            "(2, 0)\n",
            "(2, 1)\n",
            "6 6 6\n"
          ]
        }
      ]
    },
    {
      "cell_type": "code",
      "source": [
        "import itertools\n",
        "\n",
        "print(list(itertools.combinations(caracteres, 2)),combinacao(len(caracteres),2))"
      ],
      "metadata": {
        "colab": {
          "base_uri": "https://localhost:8080/"
        },
        "id": "QP4E2wWWOLhy",
        "outputId": "9f83e1cb-371a-44dd-acfc-03ae7ea6f3d6"
      },
      "execution_count": 33,
      "outputs": [
        {
          "output_type": "stream",
          "name": "stdout",
          "text": [
            "[(0, 1), (0, 2), (1, 2)] 3\n"
          ]
        }
      ]
    },
    {
      "cell_type": "code",
      "source": [
        "24*10*100/combinacao(140,2)"
      ],
      "metadata": {
        "colab": {
          "base_uri": "https://localhost:8080/"
        },
        "id": "PgdeLOMvWnX3",
        "outputId": "9c3214b9-fc41-4e96-ffe7-6046e2939392"
      },
      "execution_count": 65,
      "outputs": [
        {
          "output_type": "execute_result",
          "data": {
            "text/plain": [
              "2.4665981500513876"
            ]
          },
          "metadata": {},
          "execution_count": 65
        }
      ]
    },
    {
      "cell_type": "code",
      "source": [
        "24*100*(combinacao(5,2) / combinacao(140,2))"
      ],
      "metadata": {
        "colab": {
          "base_uri": "https://localhost:8080/"
        },
        "id": "S8-_AWl8NH2I",
        "outputId": "77c8d111-523d-4f24-a2d4-ca0a2a1c82f5"
      },
      "execution_count": 60,
      "outputs": [
        {
          "output_type": "execute_result",
          "data": {
            "text/plain": [
              "2.4665981500513876"
            ]
          },
          "metadata": {},
          "execution_count": 60
        }
      ]
    },
    {
      "cell_type": "code",
      "source": [
        "import random as rnd\n",
        "\n",
        "lista_num = [*range(1,141)]\n",
        "\n",
        "espaco_amostral = list(itertools.combinations(lista_num, 2))\n",
        "minha_amostra = set(rnd.sample(lista_num,k=5)) # sem substituição = sem reposição\n",
        "\n",
        "[k for k in espaco_amostral if set(k).issubset(minha_amostra)]"
      ],
      "metadata": {
        "colab": {
          "base_uri": "https://localhost:8080/"
        },
        "id": "TrxMoNlePiGd",
        "outputId": "d3c92103-878d-4e3f-897e-b15a3d62e01e"
      },
      "execution_count": 58,
      "outputs": [
        {
          "output_type": "execute_result",
          "data": {
            "text/plain": [
              "[(25, 66),\n",
              " (25, 67),\n",
              " (25, 107),\n",
              " (25, 136),\n",
              " (66, 67),\n",
              " (66, 107),\n",
              " (66, 136),\n",
              " (67, 107),\n",
              " (67, 136),\n",
              " (107, 136)]"
            ]
          },
          "metadata": {},
          "execution_count": 58
        }
      ]
    },
    {
      "cell_type": "code",
      "source": [
        "combinacao(len(minha_amostra),2)"
      ],
      "metadata": {
        "colab": {
          "base_uri": "https://localhost:8080/"
        },
        "id": "HJWjlzipRIC-",
        "outputId": "86811093-106f-4a8c-de2d-67f71d8d1575"
      },
      "execution_count": 59,
      "outputs": [
        {
          "output_type": "execute_result",
          "data": {
            "text/plain": [
              "10"
            ]
          },
          "metadata": {},
          "execution_count": 59
        }
      ]
    }
  ]
}