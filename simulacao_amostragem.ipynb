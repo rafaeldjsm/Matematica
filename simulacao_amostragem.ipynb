{
  "nbformat": 4,
  "nbformat_minor": 0,
  "metadata": {
    "colab": {
      "provenance": [],
      "authorship_tag": "ABX9TyNmAET8CfXkgdYb3LCXmcrD",
      "include_colab_link": true
    },
    "kernelspec": {
      "name": "python3",
      "display_name": "Python 3"
    },
    "language_info": {
      "name": "python"
    }
  },
  "cells": [
    {
      "cell_type": "markdown",
      "metadata": {
        "id": "view-in-github",
        "colab_type": "text"
      },
      "source": [
        "<a href=\"https://colab.research.google.com/github/rafaeldjsm/Matematica/blob/main/simulacao_amostragem.ipynb\" target=\"_parent\"><img src=\"https://colab.research.google.com/assets/colab-badge.svg\" alt=\"Open In Colab\"/></a>"
      ]
    },
    {
      "cell_type": "code",
      "execution_count": 1,
      "metadata": {
        "colab": {
          "base_uri": "https://localhost:8080/",
          "height": 265
        },
        "id": "cWbJY6bmoKO6",
        "outputId": "aa11f3d4-076a-4af1-d446-37158ee345f3"
      },
      "outputs": [
        {
          "output_type": "display_data",
          "data": {
            "text/plain": [
              "<Figure size 432x288 with 1 Axes>"
            ],
            "image/png": "[encoded data removed]"
          },
          "metadata": {
            "needs_background": "light"
          }
        }
      ],
      "source": [
        "import numpy as np\n",
        "import matplotlib.pyplot as plt\n",
        "\n",
        "pop = np.random.normal(2.25,1,100_000)\n",
        "plt.hist(pop)\n",
        "plt.show()"
      ]
    },
    {
      "cell_type": "code",
      "source": [
        "pop.mean(), pop.std(ddof=1)"
      ],
      "metadata": {
        "colab": {
          "base_uri": "https://localhost:8080/"
        },
        "id": "z6kfc0L5ozyR",
        "outputId": "5e832f2b-c18f-4403-96aa-0c823f8647a1"
      },
      "execution_count": 2,
      "outputs": [
        {
          "output_type": "execute_result",
          "data": {
            "text/plain": [
              "(2.248984444257571, 1.000122933755705)"
            ]
          },
          "metadata": {},
          "execution_count": 2
        }
      ]
    },
    {
      "cell_type": "code",
      "source": [
        "import random as rnd\n",
        "\n",
        "lista_media_amostra = []\n",
        "\n",
        "for k in range(10_000):\n",
        "    am_in = rnd.sample(list(pop),25)\n",
        "    lista_media_amostra.append(np.mean(am_in))\n",
        "\n",
        "lista_media_amostra.sort()"
      ],
      "metadata": {
        "id": "AtW6Af1DpD8R"
      },
      "execution_count": 3,
      "outputs": []
    },
    {
      "cell_type": "code",
      "source": [
        "np.percentile(lista_media_amostra,[25,75])"
      ],
      "metadata": {
        "colab": {
          "base_uri": "https://localhost:8080/"
        },
        "id": "89hVp3EIqwpY",
        "outputId": "04b3c5b5-ecaf-4fc7-87c1-6e7481d8f041"
      },
      "execution_count": 6,
      "outputs": [
        {
          "output_type": "execute_result",
          "data": {
            "text/plain": [
              "array([2.11538269, 2.38548351])"
            ]
          },
          "metadata": {},
          "execution_count": 6
        }
      ]
    }
  ]
}