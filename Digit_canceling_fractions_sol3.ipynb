{
  "nbformat": 4,
  "nbformat_minor": 0,
  "metadata": {
    "colab": {
      "provenance": [],
      "authorship_tag": "ABX9TyOYAyngx7i6F3ShV65jav6F",
      "include_colab_link": true
    },
    "kernelspec": {
      "name": "python3",
      "display_name": "Python 3"
    },
    "language_info": {
      "name": "python"
    }
  },
  "cells": [
    {
      "cell_type": "markdown",
      "metadata": {
        "id": "view-in-github",
        "colab_type": "text"
      },
      "source": [
        "<a href=\"https://colab.research.google.com/github/rafaeldjsm/Matematica/blob/main/Digit_canceling_fractions_sol3.ipynb\" target=\"_parent\"><img src=\"https://colab.research.google.com/assets/colab-badge.svg\" alt=\"Open In Colab\"/></a>"
      ]
    },
    {
      "cell_type": "markdown",
      "source": [
        "The fraction  is a curious fraction. An inexperienced mathematician while attempting to simplify it may incorrectly believe that  is obtained by cancelling the s.\n",
        "\n",
        "We shall consider fractions like, , to be trivial examples.\n",
        "\n",
        "Which means fractions where trailing 0's are cancelled are trivial. So we will ignore all the cases where we have to cancel 0's.\n",
        "\n",
        "You will be given 2 integers  and .  represents the number of digits in Numerator and Denominator, and  represents the exact number of digits to be \"cancelled\" from Numerator and Denominator. Find every non-trivial fraction, (1) where numerator is less than denominator, (2) and the value of the reduced fraction is equal to the original fraction.\n",
        "\n",
        "Sum all the Numerators and the Denominators of the original fractions, and print them separated by a space.\n",
        "\n",
        "Input Format\n",
        "\n",
        "Input contains two integers  \n",
        "\n",
        "Constraints\n",
        "\n",
        "\n",
        "\n",
        "Output Format\n",
        "\n",
        "Display 2 space separated integers that denote the sum of the Numerators and the sum of the Denominators respectively of original fractions.\n",
        "Note You do not have to reduce the Numerator and Denominator.\n",
        "\n",
        "https://www.hackerrank.com/contests/projecteuler/challenges/euler033/problem\n",
        "\n",
        "2,1 - 110 322 \n",
        "\n",
        "3,1 - 77262 163829 \n",
        "\n",
        "3,2 - 7429 17305 \n",
        "\n",
        "4,1 - 12999936 28131911 \n",
        "\n",
        "4,2 - 3571225 7153900 \n",
        "\n",
        "4,3 - 255983 467405\n"
      ],
      "metadata": {
        "id": "v3VkVHhWDD8G"
      }
    },
    {
      "cell_type": "code",
      "execution_count": 1,
      "metadata": {
        "colab": {
          "base_uri": "https://localhost:8080/"
        },
        "id": "wUEY1WAhC7r3",
        "outputId": "4256ee0e-fa55-4316-cf97-ef2746ae3272"
      },
      "outputs": [
        {
          "output_type": "stream",
          "name": "stdout",
          "text": [
            "12999936 28131911\n"
          ]
        }
      ],
      "source": [
        "from itertools import combinations\n",
        "from itertools import combinations_with_replacement \n",
        "from itertools import product\n",
        "from itertools import permutations\n",
        "\n",
        "def int_ab(a,b):\n",
        "    '''\n",
        "    Intersection of two lists including duplicates\n",
        "    '''\n",
        "    a = list(a)\n",
        "    b = list(b)\n",
        "    c = []\n",
        "    for x in a:\n",
        "        if x in b and x != '0':\n",
        "            b.remove(x)\n",
        "            c.append(x)\n",
        "    return c\n",
        "\n",
        "\n",
        "def remol(l1,l2):\n",
        "    '''\n",
        "    recebe duas strings e as subtrai elemento a elemento\n",
        "    # '1511','11' - > '#15'\\11 :15 or \\1'#5'\\1'#1:51\n",
        "    '''\n",
        "    l1t = list(l1)\n",
        "    l2t = l1t[::-1]\n",
        "    for k in l2:\n",
        "        if k in l1t:\n",
        "            l1t.remove(k)\n",
        "        if k in l2t:\n",
        "            l2t.remove(k)\n",
        "\n",
        "    l2t.reverse()\n",
        "    return set([\"\".join(l1t), \"\".join(l2t)])\n",
        "\n",
        "n = 4\n",
        "k = 1\n",
        "\n",
        "start = 10**(n-1)\n",
        "end = start*10\n",
        "\n",
        "lista = []\n",
        "\n",
        "for num in range(start + 1, end):\n",
        "    st_num = str(num)\n",
        "\n",
        "    st_den0 = [\"\".join(x) for x in ( product([\"\".join(x) for x in combinations(st_num, k)], [\"\".join(x) for x in combinations_with_replacement('0123456789',n-k)]))]\n",
        "\n",
        "    st_den = [\"\".join(x) for y in [tuple(permutations(x)) for x in st_den0] for x in y if int(\"\".join(x)) < num and x[0]!='0']\n",
        "\n",
        "    for i in st_den:\n",
        "        com = int_ab(st_num,i)\n",
        "        if k > 1:\n",
        "            com = list(set([''.join(j) for j in combinations(com, k)]))\n",
        "        for j in com:\n",
        "            set_newd = remol(i,j)\n",
        "            set_newn = remol(st_num,j)\n",
        "\n",
        "            for newd in set_newd:\n",
        "                for newn in set_newn:\n",
        "                    if (newn and \n",
        "                        (int(newd) * num == int(newn) * int(i)) and\n",
        "                        int(newd) != 0):\n",
        "                        ele = [num, i]\n",
        "                        if ele not in lista:\n",
        "                            lista.append(ele)\n",
        "print(sum([int(k[1]) for k in lista]),sum([int(k[0]) for k in lista]))"
      ]
    }
  ]
}