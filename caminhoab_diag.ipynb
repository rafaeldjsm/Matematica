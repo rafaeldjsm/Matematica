{
  "nbformat": 4,
  "nbformat_minor": 0,
  "metadata": {
    "colab": {
      "name": "caminhoab_diag.ipynb",
      "provenance": [],
      "collapsed_sections": [],
      "authorship_tag": "ABX9TyN1VZm/wvTbO8uRSBUml4xH",
      "include_colab_link": true
    },
    "kernelspec": {
      "name": "python3",
      "display_name": "Python 3"
    },
    "language_info": {
      "name": "python"
    }
  },
  "cells": [
    {
      "cell_type": "markdown",
      "metadata": {
        "id": "view-in-github",
        "colab_type": "text"
      },
      "source": [
        "<a href=\"https://colab.research.google.com/github/rafaeldjsm/Matematica/blob/main/caminhoab_diag.ipynb\" target=\"_parent\"><img src=\"https://colab.research.google.com/assets/colab-badge.svg\" alt=\"Open In Colab\"/></a>"
      ]
    },
    {
      "cell_type": "markdown",
      "source": [
        "# O Problema do rato no labirinto.\n",
        "\n",
        "## Neste caso vamos considerar um problema alternativo em que é possível a locomoção nas casas horizontais, verticais e diagonais.\n",
        "\n",
        "Ajude um rato a encontrar um pedaço de queijo num labirinto como o do desenho da figura 1: Um labirinto desses pode ser representado por uma matriz retangular L, cujo elemento $L[i][j]$ vale 0 ou −1 conforme a casa correspondente do labirinto seja uma passagem livre ou uma parede, respectivamente.\n",
        "\n",
        "<center>\n",
        "<img src ='https://raw.githubusercontent.com/rafaeldjsm/Matematica/master/imagens/rato_labirinto.PNG' width=500px>\n",
        "</center>\n",
        "\n",
        "## Saída de Dados \n",
        "\n",
        "A saída do seu programa deve ser uma lista de coordenadas que comece pela posição inicial do rato e termine na posição inicial do queijo. Essa sequencia de coordenadas deve indicar o caminho mais curto para o rato chegar ao queijo."
      ],
      "metadata": {
        "id": "0zSGii_L-5Ju"
      }
    },
    {
      "cell_type": "code",
      "execution_count": null,
      "metadata": {
        "id": "p-2pi3C1qSrP"
      },
      "outputs": [],
      "source": [
        "import numpy as np\n",
        "\n",
        "def matab():\n",
        "    l = []\n",
        "    for i in range(6):\n",
        "        li = []\n",
        "        for j in range(11):\n",
        "            if [i,j] in [[0,2],[0,3],\n",
        "                         [1,1],[1,4],[1,6],[1,8],[1,9],\n",
        "                         [2,2],[2,4],[2,6],[2,10],\n",
        "                         [3,1],[3,3],[3,7],[3,8],\n",
        "                         [4,3],[4,5],[4,9],\n",
        "                         [5,1],[5,8]]:\n",
        "                li.append(-1)\n",
        "            else:\n",
        "                li.append(0)\n",
        "        l.append(li)\n",
        "    return np.array(l)"
      ]
    },
    {
      "cell_type": "code",
      "source": [
        "b = [5,10]\n",
        "a = [0,0]\n",
        "\n",
        "mat0 = matab().copy()\n",
        "mat0"
      ],
      "metadata": {
        "id": "ZtG_BWYFrc6Q",
        "colab": {
          "base_uri": "https://localhost:8080/"
        },
        "outputId": "95fae91f-c508-4406-a668-8c914d4a1002"
      },
      "execution_count": null,
      "outputs": [
        {
          "output_type": "execute_result",
          "data": {
            "text/plain": [
              "array([[ 0,  0, -1, -1,  0,  0,  0,  0,  0,  0,  0],\n",
              "       [ 0, -1,  0,  0, -1,  0, -1,  0, -1, -1,  0],\n",
              "       [ 0,  0, -1,  0, -1,  0, -1,  0,  0,  0, -1],\n",
              "       [ 0, -1,  0, -1,  0,  0,  0, -1, -1,  0,  0],\n",
              "       [ 0,  0,  0, -1,  0, -1,  0,  0,  0, -1,  0],\n",
              "       [ 0, -1,  0,  0,  0,  0,  0,  0, -1,  0,  0]])"
            ]
          },
          "metadata": {},
          "execution_count": 2
        }
      ]
    },
    {
      "cell_type": "code",
      "source": [
        "lm1,cm1 = np.where(mat0 == -1)"
      ],
      "metadata": {
        "id": "Z3V2LWSb6Z6Q"
      },
      "execution_count": null,
      "outputs": []
    },
    {
      "cell_type": "code",
      "source": [
        "def vizinhos(x,y):\n",
        "    l = [[x-1,y-1],[x-1,y],[x-1,y+1],[x,y-1],[x,y+1],[x+1,y-1],[x+1,y],[x+1,y+1]]\n",
        "    lr = [k for k in l if k[0] >= 0 and k[1] >= 0]\n",
        "    return lr\n",
        "\n",
        "\n",
        "def wayab(mat0,a,b):\n",
        "    mat = mat0.copy()\n",
        "    li,co = mat.shape\n",
        "    b0,b1 = b\n",
        "    a0,a1 = a\n",
        "    mat[b0][b1] = 1\n",
        "\n",
        "    c0,c1 = b\n",
        "    cnt = 1\n",
        "    strt = 0 #start da lista de vizinhos\n",
        "\n",
        "    lm1,cm1 = np.where(mat0 == -1)\n",
        "    imped = [[k,j] for k,j in zip(lm1,cm1)]\n",
        "    ult = []\n",
        "\n",
        "    while (c0,c1) != (a0,a1) and cnt < 30:\n",
        "        ult = imped.copy()+ ult + [[c0,c1]]\n",
        "        viz = vizinhos(c0,c1)\n",
        "        l = np.array([mat[k,j] for k,j in viz if (k <= li-1 and j <= co-1 and [k,j] not in ult)])\n",
        "        lidx = [[k,j] for k,j in viz if (k <= li-1 and j <= co-1 and [k,j] not in ult)]\n",
        "        ll = len(lidx)\n",
        "        \n",
        "        if ll == 0:\n",
        "            imped.append([c0,c1])\n",
        "            ult = []\n",
        "            c0,c1 = b\n",
        "            cnt = 1\n",
        "            strt += 1 \n",
        "        else:\n",
        "            c0,c1 = lidx[strt % ll]\n",
        "            cnt+=1\n",
        "            mat[c0,c1] = cnt\n",
        "    print(mat)"
      ],
      "metadata": {
        "id": "sGAK0cYlu6cC"
      },
      "execution_count": null,
      "outputs": []
    },
    {
      "cell_type": "code",
      "source": [
        "wayab(mat0,a,b)"
      ],
      "metadata": {
        "id": "FdNGmOGm1A4E",
        "colab": {
          "base_uri": "https://localhost:8080/"
        },
        "outputId": "f3c68561-49ad-40a6-9e5e-35cbc3c527d6"
      },
      "execution_count": null,
      "outputs": [
        {
          "output_type": "stream",
          "name": "stdout",
          "text": [
            "[[12 11 -1 -1  8  7  6  0  0  0  0]\n",
            " [ 0 -1 10  9 -1  0 -1  5 -1 -1  0]\n",
            " [ 0  0 -1  0 -1  0 -1  0  4  0 -1]\n",
            " [ 0 -1  0 -1  0  0  0 -1 -1  3  0]\n",
            " [ 0  0  0 -1  0 -1  0  0  0 -1  2]\n",
            " [ 0 -1  0  0  0  0  0  0 -1  0  1]]\n"
          ]
        }
      ]
    }
  ]
}