{
 "cells": [
  {
   "cell_type": "markdown",
   "metadata": {},
   "source": [
    "# Métodos de Regressão Linear:"
   ]
  },
  {
   "cell_type": "markdown",
   "metadata": {},
   "source": [
    "$$ S_{xx} = \\sum x^2 -  \\frac{(\\sum x)^2}n = \\sum (x_i - \\overline{x})^2 = (n-1) \\cdot Var(x)$$\n",
    "\n",
    "$$ S_{yy} = \\sum y^2 -  \\frac{(\\sum y)^2}n = \\sum (y_i - \\overline{y}) = (n-1) \\cdot Var(y)^2$$\n",
    "\n",
    "$$ S_{xy} = \\sum x \\cdot y -  \\frac{(\\sum x) \\cdot (\\sum y)}n = \\sum (x_i - \\overline{x}) \\cdot (y_i - \\overline{y}) = (n-1) \\cdot Cov(x,y)$$\n",
    "\n",
    "$$ \\beta_1 = \\frac{n \\cdot \\sum x \\cdot y -  \\sum x \\cdot \\sum y}{n \\cdot \\sum x^2 - (\\sum x)^2} = \\frac{S_{xy}}{S_{xx}} = \\frac{Cov(x,y)}{Var(x)}$$\n",
    "\n",
    "$$\\beta_0 = \\overline y - \\beta_1 \\cdot \\overline x$$\n",
    "\n",
    "$$ SQT = \\sum (y - \\overline{y})^2 = S_{yy}\\text{ : Soma dos quadrados totais}$$\n",
    "$$ SQR = \\sum (\\hat y - \\overline{y})^2 \\text{ : Soma dos quadrados da regressão - Variação Explicada}$$\n",
    "$$ SQE = \\sum (y - \\hat{y})^2 \\text{ : Soma dos quadrados dos Erros - Variação Não Explicada}$$\n",
    "\n",
    "$$ SQT = SQR + SQE $$\n",
    "\n",
    "$$ \\boxed{R^2 = \\frac{SQR}{SQT} = \\frac{\\sum (\\hat y - \\overline{y})}{\\sum (y - \\overline{y})}} $$\n",
    "\n",
    "Demosntração de $SQT = SQR + SQE$ :\n",
    "\n",
    "$$ SQR = \\sum (\\hat y - \\overline{y})^2 = \\sum (\\beta_1 \\cdot x + \\beta_0 - \\overline{y})^2$$\n",
    "\n",
    "Como $\\beta_0 = \\overline y - \\beta_1 \\cdot \\overline x$:\n",
    "\n",
    "\n",
    "$$ SQR = \\sum (\\beta_1 \\cdot x +  \\color{red} {\\overline y} - \\beta_1 \\cdot \\overline x - \\color{red}{\\overline{y}})^2 =\n",
    "\\sum (\\beta_1 \\cdot x - \\beta_1 \\cdot \\overline x)^2 = {\\beta_1}^2\\cdot\\sum (x - \\overline x)^2 = {\\beta_1}^2\\cdot S{xx}$$\n",
    "\n",
    "$$ \\boxed{SQR = {\\beta_1}^2\\cdot S{xx} = \\frac{{S_{xy}}^2}{S_{xx}}}$$\n",
    "\n",
    "$$ SQE = \\sum (y - \\hat{y})^2 = \\sum (y - \\beta_1 \\cdot x + \\beta_0)^2 = \\sum (y - \\beta_1 \\cdot x - \\overline y + \\beta_1 \\cdot \\overline x)^2$$\n",
    "\n",
    "$$ SQE = \\sum [(y - \\overline y) - \\beta_1 \\cdot( x  - \\overline x)]^2 = \\sum [(y - \\overline y)^2 - 2 \\cdot \\beta_1 \\cdot (y - \\overline y) \\cdot ( x  - \\overline x) +(\\beta_1 \\cdot( x  - \\overline x))^2]$$\n",
    "\n",
    "$$ SQE = S_{yy} - 2 \\cdot \\frac{S_{xy}}{S_{xx}} \\cdot S_{xy} + SQR = SQT - SQR$$\n",
    "\n",
    "Logo:\n",
    "\n",
    "$$ R^2 = \\frac{{S_{xy}}^2}{S_{xx} \\cdot S_{yy}} = \\frac{\\beta_1 \\cdot S_{xy}}{S_{yy}}$$"
   ]
  },
  {
   "cell_type": "code",
   "execution_count": 1,
   "metadata": {},
   "outputs": [],
   "source": [
    "import numpy as np\n",
    "import pandas as pd\n",
    "import random as rnd\n",
    "import seaborn as sns\n",
    "import matplotlib.pyplot as plt\n",
    "\n",
    "n = 300\n",
    "a = 3\n",
    "b = 2\n",
    "\n",
    "x = [rnd.randint(1,500) for k in range(n)]\n",
    "y = list(map(lambda x: a*x + b + rnd.gauss(0,n/2),x))\n",
    "\n",
    "xm = np.mean(x)\n",
    "ym = np.mean(y)"
   ]
  },
  {
   "cell_type": "code",
   "execution_count": 2,
   "metadata": {},
   "outputs": [],
   "source": [
    "Soma_x2 = sum(map(lambda x: x**2,x))\n",
    "Soma_y2 = sum(map(lambda x: x**2,y))\n",
    "Soma_xy = sum(map((lambda x,y: x*y),x,y))"
   ]
  },
  {
   "cell_type": "code",
   "execution_count": 3,
   "metadata": {},
   "outputs": [
    {
     "data": {
      "text/plain": [
       "(6395522.036666671, 6395522.036666665, 6395522.036666667)"
      ]
     },
     "execution_count": 3,
     "metadata": {},
     "output_type": "execute_result"
    }
   ],
   "source": [
    "Sxx_1 = sum(map(lambda x: (x - xm)**2,x))\n",
    "Sxx_2 = Soma_x2 - sum(x)**2/n\n",
    "Sxx_1,Sxx_2,(n-1)*np.var(x,ddof=1)"
   ]
  },
  {
   "cell_type": "code",
   "execution_count": 4,
   "metadata": {},
   "outputs": [
    {
     "data": {
      "text/plain": [
       "(65333471.93211697, 65333471.93211681, 65333471.932117015)"
      ]
     },
     "execution_count": 4,
     "metadata": {},
     "output_type": "execute_result"
    }
   ],
   "source": [
    "Syy_1 = sum(map(lambda x: (x - ym)**2,y))\n",
    "Syy_2 = Soma_y2 - sum(y)**2/n\n",
    "Syy_1,Syy_2,(n-1)*np.var(y,ddof=1)"
   ]
  },
  {
   "cell_type": "code",
   "execution_count": 5,
   "metadata": {},
   "outputs": [
    {
     "data": {
      "text/plain": [
       "(19489610.151659645,\n",
       " 19489610.151659556,\n",
       " array([[ 6395522.03666667, 19489610.15165964],\n",
       "        [19489610.15165964, 65333471.93211702]]))"
      ]
     },
     "execution_count": 5,
     "metadata": {},
     "output_type": "execute_result"
    }
   ],
   "source": [
    "Sxy_1 = sum(map(lambda x,y: (x - xm)*(y - ym),x,y))\n",
    "Sxy_2 = Soma_xy - sum(x)*sum(y)/n\n",
    "Sxy_1,Sxy_2, (n-1)*np.cov(x,y,ddof=1)"
   ]
  },
  {
   "cell_type": "code",
   "execution_count": 6,
   "metadata": {},
   "outputs": [
    {
     "data": {
      "text/plain": [
       "3.047383785079971"
      ]
     },
     "execution_count": 6,
     "metadata": {},
     "output_type": "execute_result"
    }
   ],
   "source": [
    "beta1 = Sxy_1/Sxx_1 \n",
    "beta1"
   ]
  },
  {
   "cell_type": "code",
   "execution_count": 7,
   "metadata": {},
   "outputs": [
    {
     "data": {
      "text/plain": [
       "0.19616340234529162"
      ]
     },
     "execution_count": 7,
     "metadata": {},
     "output_type": "execute_result"
    }
   ],
   "source": [
    "beta0 = ym - beta1*xm\n",
    "beta0"
   ]
  },
  {
   "cell_type": "code",
   "execution_count": 8,
   "metadata": {},
   "outputs": [
    {
     "data": {
      "text/plain": [
       "(0.9090642238546204, 0.9090642238546213, 0.9090642238546213)"
      ]
     },
     "execution_count": 8,
     "metadata": {},
     "output_type": "execute_result"
    }
   ],
   "source": [
    "r2_1 = np.corrcoef(x, y)[0,1]**2\n",
    "r2_2 = Sxy_1**2/(Sxx_1*Syy_1)\n",
    "r2_3 = beta1*Sxy_1/(Syy_1)\n",
    "\n",
    "r2_1,r2_2,r2_3"
   ]
  },
  {
   "cell_type": "code",
   "execution_count": 9,
   "metadata": {},
   "outputs": [
    {
     "data": {
      "image/png": "[encoded data removed]",
      "text/plain": [
       "<Figure size 432x288 with 1 Axes>"
      ]
     },
     "metadata": {},
     "output_type": "display_data"
    }
   ],
   "source": [
    "df = pd.DataFrame([x,y]).T\n",
    "df.columns = ['x','y']\n",
    "\n",
    "sns.set_theme(color_codes=True)\n",
    "\n",
    "ax = sns.regplot(x=\"x\", y=\"y\", data=df,line_kws={\"color\": \"red\"},ci = 99)"
   ]
  }
 ],
 "metadata": {
  "kernelspec": {
   "display_name": "Python 3 (ipykernel)",
   "language": "python",
   "name": "python3"
  },
  "language_info": {
   "codemirror_mode": {
    "name": "ipython",
    "version": 3
   },
   "file_extension": ".py",
   "mimetype": "text/x-python",
   "name": "python",
   "nbconvert_exporter": "python",
   "pygments_lexer": "ipython3",
   "version": "3.9.6"
  },
  "latex_envs": {
   "LaTeX_envs_menu_present": true,
   "autoclose": false,
   "autocomplete": true,
   "bibliofile": "biblio.bib",
   "cite_by": "apalike",
   "current_citInitial": 1,
   "eqLabelWithNumbers": true,
   "eqNumInitial": 1,
   "hotkeys": {
    "equation": "Ctrl-E",
    "itemize": "Ctrl-I"
   },
   "labels_anchors": false,
   "latex_user_defs": false,
   "report_style_numbering": false,
   "user_envs_cfg": false
  },
  "toc": {
   "base_numbering": 1,
   "nav_menu": {},
   "number_sections": true,
   "sideBar": true,
   "skip_h1_title": false,
   "title_cell": "Table of Contents",
   "title_sidebar": "Contents",
   "toc_cell": false,
   "toc_position": {},
   "toc_section_display": true,
   "toc_window_display": false
  },
  "varInspector": {
   "cols": {
    "lenName": 16,
    "lenType": 16,
    "lenVar": 40
   },
   "kernels_config": {
    "python": {
     "delete_cmd_postfix": "",
     "delete_cmd_prefix": "del ",
     "library": "var_list.py",
     "varRefreshCmd": "print(var_dic_list())"
    },
    "r": {
     "delete_cmd_postfix": ") ",
     "delete_cmd_prefix": "rm(",
     "library": "var_list.r",
     "varRefreshCmd": "cat(var_dic_list()) "
    }
   },
   "types_to_exclude": [
    "module",
    "function",
    "builtin_function_or_method",
    "instance",
    "_Feature"
   ],
   "window_display": false
  }
 },
 "nbformat": 4,
 "nbformat_minor": 4
}
