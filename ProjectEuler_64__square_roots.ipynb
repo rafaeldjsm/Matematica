{
  "nbformat": 4,
  "nbformat_minor": 0,
  "metadata": {
    "colab": {
      "provenance": [],
      "collapsed_sections": [],
      "authorship_tag": "ABX9TyOn4H08yPfGEeTHC9xUMvmj",
      "include_colab_link": true
    },
    "kernelspec": {
      "name": "python3",
      "display_name": "Python 3"
    },
    "language_info": {
      "name": "python"
    }
  },
  "cells": [
    {
      "cell_type": "markdown",
      "metadata": {
        "id": "view-in-github",
        "colab_type": "text"
      },
      "source": [
        "<a href=\"https://colab.research.google.com/github/rafaeldjsm/Matematica/blob/main/ProjectEuler_64__square_roots.ipynb\" target=\"_parent\"><img src=\"https://colab.research.google.com/assets/colab-badge.svg\" alt=\"Open In Colab\"/></a>"
      ]
    },
    {
      "cell_type": "markdown",
      "source": [
        "[ProjectEuler+Project Euler #64: Odd period square roots](https://www.hackerrank.com/contests/projecteuler/challenges/euler064/problem)\n",
        "\n",
        "[ProjectEuler.net #64: Odd period square roots](https://projecteuler.net/problem=64)\n",
        "\n",
        "Start With:\n",
        "$ \\sqrt{n} = \\lfloor \\sqrt{n} \\rfloor  + \\sqrt{n} - \\lfloor \\sqrt{n} \\rfloor $ <br>\n",
        "\n",
        "$ \\text{Got }x_1 = \\lfloor \\sqrt{n} \\rfloor $\n",
        "\n",
        "$ \\sqrt{n} = x_1 + \\sqrt{n} - x_1  = x_1 + \\frac{1}{\\frac{1}{\\sqrt{n} - x_1}}$\n",
        "\n",
        "So:\n",
        "$a_0 = (a_0^{int},a_0^{frac})= x_1, {\\frac{1}{\\sqrt{n} - x_1}} ⇒ a_0^{frac} = {\\frac{\\sqrt{n} + x_1}{n - x_1^2}}$\n",
        "\n",
        "For recursion purposes.<br>\n",
        "$ (k = 1 \\space , \\space den = n - x_1^2) ⇒  a_0^{frac} = \\frac{k(\\sqrt{n} + x_1)}{den} $\n",
        "\n",
        "First iteration:<br>\n",
        "$ a_1^{int} =\\left \\lfloor {a_0^{frac}} \\right \\rfloor = \n",
        "\\left \\lfloor \\frac{k(\\sqrt{n} + x_1)}{den} \\right \\rfloor = c $ <br>\n",
        "\n",
        "$ finv(a_1^{frac}) = \\frac{k(\\sqrt{n} + x_1)}{den} - c = \n",
        "\\frac{(k\\sqrt{n} + k \\cdot x_1 - c \\cdot den)}{den} = \n",
        " \\frac{k(\\sqrt{n} - (\\frac{c \\cdot den}{k} - x_1 ))}{den} ⇒\\\\ \n",
        " a_1^{frac} = \\frac{\\frac{den}{k}}{(\\sqrt{n} - (\\frac{c \\cdot den}{k} - x_1 ))} ⇒ \\text{New values} \\space ⇒ (k_2 = \\frac{den}{k},x_2 = \\frac{c \\cdot den}{k} - x_1, den_2 = n - x_2^2)$ \n",
        "\n",
        "The recursion continues until $ a_n^{frac} = a_0^{frac}$ when the period starts and the fractional part values repeat infinitely."
      ],
      "metadata": {
        "id": "IPZzuUyQ8vWz"
      }
    },
    {
      "cell_type": "code",
      "execution_count": null,
      "metadata": {
        "colab": {
          "base_uri": "https://localhost:8080/"
        },
        "id": "lkMgJAWx8tN0",
        "outputId": "38437a91-7dbb-49a2-a362-99e79c9173b8"
      },
      "outputs": [
        {
          "name": "stdout",
          "output_type": "stream",
          "text": [
            "13\n"
          ]
        },
        {
          "output_type": "execute_result",
          "data": {
            "text/plain": [
              "4"
            ]
          },
          "metadata": {},
          "execution_count": 1
        }
      ],
      "source": [
        "from math import sqrt\n",
        "\n",
        "def perfarc(n):\n",
        "    root = int(sqrt(n))\n",
        "    if root == sqrt(n):\n",
        "        return 0\n",
        "    a = 1\n",
        "    listaint = [root]\n",
        "    den = n - root**2\n",
        "    lista_inv_frac = [(sqrt(n)+root)/den]\n",
        "    per = 0\n",
        "    while True:\n",
        "        part_int = int(lista_inv_frac[-1])\n",
        "        root = (den * part_int)/a - root\n",
        "        a = den/a\n",
        "        den = (n-root**2)\n",
        "        invfrac = a*(sqrt(n)+root)/den\n",
        "        listaint.append(part_int)\n",
        "        lista_inv_frac.append(invfrac)\n",
        "        per+=1\n",
        "        if invfrac == lista_inv_frac[0]:\n",
        "            return per\n",
        "\n",
        "n = int(input())\n",
        "cntodd = 0\n",
        "for k in range(2,n+1):\n",
        "    if perfarc(k)%2 == 1:\n",
        "        cntodd+=1\n",
        "\n",
        "cntodd"
      ]
    }
  ]
}